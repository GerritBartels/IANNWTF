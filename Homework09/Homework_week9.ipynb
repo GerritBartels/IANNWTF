{
  "nbformat": 4,
  "nbformat_minor": 0,
  "metadata": {
    "accelerator": "GPU",
    "colab": {
      "name": "Homework_week9.ipynb",
      "provenance": [],
      "collapsed_sections": []
    },
    "kernelspec": {
      "display_name": "Python 3",
      "name": "python3"
    }
  },
  "cells": [
    {
      "cell_type": "code",
      "metadata": {
        "id": "_v3ke6yRbpqZ"
      },
      "source": [
        "import numpy as np\r\n",
        "import tensorflow as tf\r\n",
        "# next line only for colab\r\n",
        "%tensorflow_version 2.x\r\n",
        "tfkl = tf.keras.layers\r\n",
        "from tensorflow.keras import Model\r\n",
        "# import tensorflow-datasets to be able to access the tensorflow inbuilt datasets\r\n",
        "import matplotlib.pyplot as plt\r\n",
        "import random\r\n",
        "import time\r\n",
        "from IPython.display import clear_output"
      ],
      "execution_count": 1,
      "outputs": []
    },
    {
      "cell_type": "markdown",
      "metadata": {
        "id": "ZM3r_XWq2pxT"
      },
      "source": [
        "# 2. The Task\n"
      ]
    },
    {
      "cell_type": "markdown",
      "metadata": {
        "id": "SNkk2FVSc4gc"
      },
      "source": [
        "## Generator"
      ]
    },
    {
      "cell_type": "code",
      "metadata": {
        "id": "5Dj4BqRHcBaM"
      },
      "source": [
        "# a generator that yields items instead of returning a list\r\n",
        "\r\n",
        "def input_generator(n,num):\r\n",
        "  \"\"\"Generator that yields #num many input samples\r\n",
        "\r\n",
        "  Arguments:\r\n",
        "    n (int): Defines the length of the input sequence \r\n",
        "    num (int): Defines the amount of samples generated \r\n",
        "\r\n",
        "  Yields:\r\n",
        "    sample (tuple): input-target pair \r\n",
        "  \"\"\"\r\n",
        "  for i in range(num):\r\n",
        "    # randomly generate context and sequence\r\n",
        "    context = random.sample(range(0,10),2)\r\n",
        "    seq = list(np.random.randint(0,10,n))\r\n",
        "  \r\n",
        "    # calculate which of the context numbers occurs more often in the generated sequence\r\n",
        "    if seq.count(context[0]) >= seq.count(context[1]):\r\n",
        "      target = [1,0] \r\n",
        "    elif seq.count(context[0]) < seq.count(context[1]):\r\n",
        "      target = [0,1]\r\n",
        "\r\n",
        "    # one hot encode \r\n",
        "    context = tf.reshape(tf.one_hot(context, 10), (-1))\r\n",
        "    seq = tf.one_hot(seq,10)\r\n",
        "\r\n",
        "    # concatenate the context to each element of the sequence \r\n",
        "    sample = [tf.concat([context, elem],0) for elem in seq]\r\n",
        "\r\n",
        "    yield (tf.convert_to_tensor(sample), tf.reshape(tf.convert_to_tensor(target), (-1,)))\r\n"
      ],
      "execution_count": 2,
      "outputs": []
    },
    {
      "cell_type": "markdown",
      "metadata": {
        "id": "oM_Y9VQV23AR"
      },
      "source": [
        "An example sample:"
      ]
    },
    {
      "cell_type": "code",
      "metadata": {
        "colab": {
          "base_uri": "https://localhost:8080/"
        },
        "id": "Chql87QqcC2k",
        "outputId": "0138b993-ca06-4a33-faa5-61c7c515ab05"
      },
      "source": [
        "for sample in input_generator(2,1):\r\n",
        "  print(sample)"
      ],
      "execution_count": 3,
      "outputs": [
        {
          "output_type": "stream",
          "text": [
            "(<tf.Tensor: shape=(2, 30), dtype=float32, numpy=\n",
            "array([[0., 0., 0., 0., 0., 1., 0., 0., 0., 0., 1., 0., 0., 0., 0., 0.,\n",
            "        0., 0., 0., 0., 0., 0., 0., 0., 0., 1., 0., 0., 0., 0.],\n",
            "       [0., 0., 0., 0., 0., 1., 0., 0., 0., 0., 1., 0., 0., 0., 0., 0.,\n",
            "        0., 0., 0., 0., 0., 0., 0., 0., 0., 0., 0., 0., 1., 0.]],\n",
            "      dtype=float32)>, <tf.Tensor: shape=(2,), dtype=int32, numpy=array([1, 0], dtype=int32)>)\n"
          ],
          "name": "stdout"
        }
      ]
    },
    {
      "cell_type": "markdown",
      "metadata": {
        "id": "kvHjp0NN2w8Y"
      },
      "source": [
        "## Input Pipeline"
      ]
    },
    {
      "cell_type": "code",
      "metadata": {
        "id": "Pyo7skOeBSTW"
      },
      "source": [
        "sequence_length = tf.constant(20)\r\n",
        "num_samples = tf.constant(100000)\r\n",
        "\r\n",
        "dataset = tf.data.Dataset.from_generator(input_generator, args=(sequence_length, num_samples), output_signature=(tf.TensorSpec(shape=(20,30),dtype=tf.float32), tf.TensorSpec(shape=(2,),dtype=tf.float32))).cache().batch(512).prefetch(tf.data.experimental.AUTOTUNE)"
      ],
      "execution_count": 4,
      "outputs": []
    },
    {
      "cell_type": "markdown",
      "metadata": {
        "id": "b7MJGrGNJq03"
      },
      "source": [
        "Have a look at one batch from the dataset:"
      ]
    },
    {
      "cell_type": "code",
      "metadata": {
        "colab": {
          "base_uri": "https://localhost:8080/"
        },
        "id": "ljk67tXdeNMT",
        "outputId": "304a0953-c7cb-4b2a-c390-8ec2a140e6f0"
      },
      "source": [
        "for i in dataset:\r\n",
        "  print(i)\r\n",
        "  break"
      ],
      "execution_count": 5,
      "outputs": [
        {
          "output_type": "stream",
          "text": [
            "(<tf.Tensor: shape=(512, 20, 30), dtype=float32, numpy=\n",
            "array([[[0., 0., 0., ..., 0., 0., 1.],\n",
            "        [0., 0., 0., ..., 0., 0., 0.],\n",
            "        [0., 0., 0., ..., 1., 0., 0.],\n",
            "        ...,\n",
            "        [0., 0., 0., ..., 0., 1., 0.],\n",
            "        [0., 0., 0., ..., 0., 0., 0.],\n",
            "        [0., 0., 0., ..., 0., 0., 0.]],\n",
            "\n",
            "       [[0., 0., 0., ..., 0., 1., 0.],\n",
            "        [0., 0., 0., ..., 0., 0., 0.],\n",
            "        [0., 0., 0., ..., 0., 0., 0.],\n",
            "        ...,\n",
            "        [0., 0., 0., ..., 0., 0., 0.],\n",
            "        [0., 0., 0., ..., 0., 0., 0.],\n",
            "        [0., 0., 0., ..., 0., 0., 0.]],\n",
            "\n",
            "       [[0., 0., 0., ..., 0., 1., 0.],\n",
            "        [0., 0., 0., ..., 0., 0., 0.],\n",
            "        [0., 0., 0., ..., 0., 0., 0.],\n",
            "        ...,\n",
            "        [0., 0., 0., ..., 0., 0., 0.],\n",
            "        [0., 0., 0., ..., 0., 0., 0.],\n",
            "        [0., 0., 0., ..., 0., 0., 0.]],\n",
            "\n",
            "       ...,\n",
            "\n",
            "       [[1., 0., 0., ..., 0., 0., 0.],\n",
            "        [1., 0., 0., ..., 0., 0., 0.],\n",
            "        [1., 0., 0., ..., 0., 0., 1.],\n",
            "        ...,\n",
            "        [1., 0., 0., ..., 0., 0., 0.],\n",
            "        [1., 0., 0., ..., 0., 0., 0.],\n",
            "        [1., 0., 0., ..., 0., 0., 0.]],\n",
            "\n",
            "       [[1., 0., 0., ..., 0., 0., 0.],\n",
            "        [1., 0., 0., ..., 0., 0., 0.],\n",
            "        [1., 0., 0., ..., 0., 0., 1.],\n",
            "        ...,\n",
            "        [1., 0., 0., ..., 0., 0., 0.],\n",
            "        [1., 0., 0., ..., 0., 0., 0.],\n",
            "        [1., 0., 0., ..., 0., 0., 0.]],\n",
            "\n",
            "       [[0., 0., 0., ..., 0., 1., 0.],\n",
            "        [0., 0., 0., ..., 0., 0., 0.],\n",
            "        [0., 0., 0., ..., 0., 0., 1.],\n",
            "        ...,\n",
            "        [0., 0., 0., ..., 0., 1., 0.],\n",
            "        [0., 0., 0., ..., 0., 0., 0.],\n",
            "        [0., 0., 0., ..., 0., 0., 0.]]], dtype=float32)>, <tf.Tensor: shape=(512, 2), dtype=float32, numpy=\n",
            "array([[0., 1.],\n",
            "       [0., 1.],\n",
            "       [1., 0.],\n",
            "       ...,\n",
            "       [0., 1.],\n",
            "       [0., 1.],\n",
            "       [1., 0.]], dtype=float32)>)\n"
          ],
          "name": "stdout"
        }
      ]
    },
    {
      "cell_type": "markdown",
      "metadata": {
        "id": "N5TqrSzzgiP0"
      },
      "source": [
        "# The Network\r\n",
        "\r\n",
        "In the following we create an LSMT implementation in graph mode consisting of three classes that is supposed to find out which digits out of two queried digits is more common in a given sequence:\r\n",
        "1. LSTM_Cell that contains the three gates (input, output and forget) as well as the cell state candidate \r\n",
        "2. LSTM that consists of one LSTM_Cell that gets unrolled for the input sequence\r\n",
        "3. LSTM_Model that has an additional input and output layer for our calssification task "
      ]
    },
    {
      "cell_type": "code",
      "metadata": {
        "id": "FFzELTfzgfnj"
      },
      "source": [
        "class LSTM_Cell(Model):\r\n",
        "  \"\"\"Model that realizes the internal structure and calculations of an LSTM \r\n",
        "  \"\"\"\r\n",
        "\r\n",
        "  def __init__(self, layersize):\r\n",
        "    \"\"\"Initialize the LSTM_Cell with a given amount of neurons in the layers of the gates.\r\n",
        "\r\n",
        "    Arguments:\r\n",
        "      layersize (int): defining the amount of neurons in the layers of the gates \r\n",
        "    \"\"\"\r\n",
        "    super(LSTM_Cell, self).__init__()\r\n",
        "\r\n",
        "    self.forget_gate = tfkl.Dense(units=layersize, activation='sigmoid', bias_initializer='ones')\r\n",
        "    self.input_gate = tfkl.Dense(units=layersize, activation='sigmoid')\r\n",
        "    self.output_gate = tfkl.Dense(units=layersize, activation='sigmoid')\r\n",
        "\r\n",
        "    self.cell_state_candidate = tfkl.Dense(units=layersize, activation='tanh')\r\n",
        "    \r\n",
        "  @tf.function\r\n",
        "  def call(self, input, hidden_state, cell_state):\r\n",
        "    \"\"\"Call function where the internal calcualtions of an LSTM are performed.\r\n",
        "    Calculates the following hidden state and cell state.\r\n",
        "\r\n",
        "    Arguments:\r\n",
        "      input (Tensor): Input Sequence where each element of the sequence is already concatenated with the context digits \r\n",
        "      hidden_state (Tensor): Previous hidden state of time step t-1\r\n",
        "      cell_state (Tensor): Previous cell state of time step t-1\r\n",
        "\r\n",
        "    Returns:\r\n",
        "      output (Tensor): updated hidden state \r\n",
        "      cell_state (Tensor): updated cell state\r\n",
        "    \"\"\"\r\n",
        "    concat_input = tf.concat([hidden_state, input], -1)\r\n",
        "    cell_state = cell_state * self.forget_gate(concat_input)\r\n",
        "    update = self.input_gate(concat_input) * self.cell_state_candidate(concat_input)\r\n",
        "    cell_state = cell_state + update\r\n",
        "    output = tf.nn.tanh(cell_state) * self.output_gate(concat_input)\r\n",
        "\r\n",
        "    return output, cell_state"
      ],
      "execution_count": 6,
      "outputs": []
    },
    {
      "cell_type": "code",
      "metadata": {
        "id": "FsEsyXrxnmWb"
      },
      "source": [
        "class LSTM(Model):\r\n",
        "  \"\"\"Class that consists of a singular LSTM_Cell (but could in practice also consist of multiple cells --> then we would have a multilayer LSTM)\r\n",
        "  \"\"\"\r\n",
        "\r\n",
        "  def __init__(self):\r\n",
        "    \"\"\"Initialize the LSTM with one LSTM_Cell\r\n",
        "    \"\"\"\r\n",
        "    super(LSTM, self).__init__()\r\n",
        "\r\n",
        "    self.cell = LSTM_Cell(3)\r\n",
        "\r\n",
        "  @tf.function\r\n",
        "  def call(self, input, ht, ct):\r\n",
        "    \"\"\"Unroll the singular LSTM_Cell for the input sequence --> as many time steps as our seuqence is long.\r\n",
        "    Recursively call the LSTM_Cell with the previous hidden state, previous cell state and current input.\r\n",
        "\r\n",
        "    Arguments:\r\n",
        "      input (Tensor): Input Sequence where each element of the sequence is already concatenated with the context digits \r\n",
        "      ht (Tensor): Previous hidden state of time step t-1\r\n",
        "      ct (Tensor): Previous cell state of time step t-1\r\n",
        "\r\n",
        "    Returns:\r\n",
        "      ht (Tensor): hidden state of the last LSTM_Cell \r\n",
        "    \"\"\"\r\n",
        "    for idx in tf.range(input.shape[1]):\r\n",
        "      ht, ct = self.cell(input[:,idx,:], ht, ct)\r\n",
        "\r\n",
        "    return tf.convert_to_tensor(ht)"
      ],
      "execution_count": 7,
      "outputs": []
    },
    {
      "cell_type": "code",
      "metadata": {
        "id": "aWgYsrdnsjg_"
      },
      "source": [
        "class LSTM_Model(Model):\r\n",
        "  \"\"\"Class that has an additional input and output layer for our classification task\r\n",
        "  \"\"\"\r\n",
        "  def __init__(self):\r\n",
        "    \"\"\"Initialize the Model with a Input, LSTM and Output Layer.\r\n",
        "    The Input layer preprocesses the input sequence befor passing it on to the LSTM.\r\n",
        "    The output layer maps the hidden state onto two neurons and applies softmax to them in order to obtain a valid probability.\r\n",
        "    \"\"\"\r\n",
        "    super(LSTM_Model, self).__init__()\r\n",
        "\r\n",
        "    self.input_layer = tfkl.Dense(30)\r\n",
        "    self.inter_layer = LSTM()\r\n",
        "    self.output_layer = tfkl.Dense(2, activation='softmax')\r\n",
        "\r\n",
        "  @tf.function\r\n",
        "  def call(self, input, ht, ct):\r\n",
        "    \"\"\"Passing the Input through the netowrk layer by layer \r\n",
        "\r\n",
        "    Arguments:\r\n",
        "      input (Tensor): Input Sequence where each element of the sequence is already concatenated with the context digits \r\n",
        "      ht (Tensor): Previous hidden state of time step t-1\r\n",
        "      ct (Tensor): Previous cell state of time step t-1\r\n",
        "\r\n",
        "    Returns\r\n",
        "      output (Tensor): Prediction of the network \r\n",
        "    \"\"\"\r\n",
        "    x = self.input_layer(input)\r\n",
        "    x = self.inter_layer(x, ht, ct)\r\n",
        "    output = self.output_layer(x)\r\n",
        "\r\n",
        "    return output"
      ],
      "execution_count": 8,
      "outputs": []
    },
    {
      "cell_type": "code",
      "metadata": {
        "id": "uvsW3Tuy3y19"
      },
      "source": [
        "@tf.function\r\n",
        "def train_step(model, input, target, loss_function, optimizer):\r\n",
        "  \"\"\"Perform a training step for a given Network by\r\n",
        "  1. Propagating the input through the network\r\n",
        "  2. Calculating the loss between the networks output and the true targets\r\n",
        "  2. Performing Backpropagation and Updating the trainable variables witht the calculated gradients \r\n",
        " \r\n",
        "  Arguments:\r\n",
        "    model (Model): given instance of an initialised  Network with all its parameters\r\n",
        "    input (Tensor): Tensor containing the input data \r\n",
        "    target (Tensor): Tensor containing the respective targets \r\n",
        "    loss_function (keras.losses): function from keras to calculate the loss\r\n",
        "    optimizer (keras.optimizers): function from keras defining the to be applied optimizer during learning \r\n",
        " \r\n",
        "  Returns:\r\n",
        "    loss (Tensor): Tensor containing the loss of the Network\r\n",
        "    accuracy (Tensor): Tensor containing the accuracy of the Network during training  \r\n",
        "  \"\"\"\r\n",
        "  with tf.GradientTape() as tape:\r\n",
        "    # 1.\r\n",
        "    prediction = model(input, ht=tf.zeros((input.shape[0],3)), ct=tf.zeros((input.shape[0],3)))\r\n",
        "    # 2.\r\n",
        "    loss = loss_function(target, prediction)\r\n",
        "    # 3.\r\n",
        "    gradients = tape.gradient(loss, model.trainable_variables)\r\n",
        "  optimizer.apply_gradients(zip(gradients, model.trainable_variables))\r\n",
        "\r\n",
        "  accuracy = tf.reduce_mean(tf.cast(tf.argmax(target, axis = 1) == tf.argmax(prediction, axis = 1), tf.float32), axis=0)\r\n",
        "\r\n",
        "  return loss, accuracy "
      ],
      "execution_count": 9,
      "outputs": []
    },
    {
      "cell_type": "code",
      "metadata": {
        "id": "D0FhgX1FRL9k"
      },
      "source": [
        "def timing(start):\r\n",
        "  \"\"\"Function to time the duration of each epoch\r\n",
        "\r\n",
        "  Arguments:\r\n",
        "    start (time): Start time needed for computation \r\n",
        "  \r\n",
        "  Returns:\r\n",
        "    time_per_training (time): Rounded time in seconds \r\n",
        "  \"\"\"\r\n",
        "  now = time.time()\r\n",
        "  time_per_training_step = now - start\r\n",
        "  return round(time_per_training_step, 4)"
      ],
      "execution_count": 10,
      "outputs": []
    },
    {
      "cell_type": "code",
      "metadata": {
        "id": "3ASRNP6ORO5y"
      },
      "source": [
        "def visualization(train_losses, train_accuracies, num_epochs):  \r\n",
        "  # Visualize accuracy and loss for training data. \r\n",
        "  # One plot training loss.\r\n",
        "  # One plot training accuracy.\r\n",
        "\r\n",
        "  # change the style of the plots to a nicer theme\r\n",
        "  plt.style.use('ggplot')\r\n",
        "  fig, ax = plt.subplots(nrows=1, ncols=2, figsize = (20, 8))\r\n",
        "\r\n",
        "  # plot for average loss\r\n",
        "  ax[0].plot(train_losses, label='training')\r\n",
        "  ax[0].set(ylabel='Loss', xlabel='Epochs', title=f'Average loss over {num_epochs} epochs')\r\n",
        "  ax[0].legend()\r\n",
        "\r\n",
        "  # plot for average accuracy, with annotation for the last accuracy value on our test data \r\n",
        "  ax[1].plot(train_accuracies, label='training')\r\n",
        "  ax[1].set(ylabel='Accuracy', xlabel='Epochs', title=f'Average accuracy over {num_epochs} epochs')\r\n",
        "  ax[1].legend()\r\n",
        "\r\n",
        "  best_train_acc_indx = np.argmax(train_accuracies)\r\n",
        "  best_train_acc = round(float(train_accuracies[best_train_acc_indx]), 4)\r\n",
        "  if best_train_acc > 0.3:\r\n",
        "    ax[1].annotate(f'best train accuracy {best_train_acc*100}%', xy=(best_train_acc_indx, best_train_acc), xytext=(best_train_acc_indx/2, best_train_acc-0.1), arrowprops=dict(facecolor='steelblue', shrink=0.05))\r\n",
        "  plt.show()"
      ],
      "execution_count": 11,
      "outputs": []
    },
    {
      "cell_type": "code",
      "metadata": {
        "id": "ssxJz71a41Z9"
      },
      "source": [
        "def trainModel(network, num_epochs=150, learning_rate=0.001, running_average_factor=0.95):  \r\n",
        "\r\n",
        "  tf.keras.backend.clear_session()\r\n",
        "\r\n",
        "  ### Hyperparameters\r\n",
        "  num_epochs = num_epochs\r\n",
        "  learning_rate = learning_rate\r\n",
        "  running_average_factor = running_average_factor\r\n",
        "  \r\n",
        "  # Initialize the model.\r\n",
        "  model = network\r\n",
        "\r\n",
        "  # Initialize the loss: binary cross entropy.\r\n",
        "  cross_entropy_loss = tf.keras.losses.BinaryCrossentropy()\r\n",
        "  # Initialize the optimizer: Adam with default parameters.\r\n",
        "  optimizer = tf.keras.optimizers.Adam(learning_rate=learning_rate)\r\n",
        "  \r\n",
        "  # Initialize lists for later visualization.\r\n",
        "  train_losses = []\r\n",
        "  train_accuracies = []\r\n",
        "\r\n",
        "  # We train for num_epochs epochs.\r\n",
        "  for epoch in range(num_epochs):\r\n",
        "      \r\n",
        "      start = time.time()\r\n",
        "\r\n",
        "      # training\r\n",
        "      running_average = 0\r\n",
        "      accuracies = []\r\n",
        "      for (input,target) in dataset:\r\n",
        "\r\n",
        "          train_loss, accuracy = train_step(model, input, target, cross_entropy_loss, optimizer)\r\n",
        "          running_average = running_average_factor * running_average  + (1 - running_average_factor) * train_loss\r\n",
        "          accuracies.append(accuracy)\r\n",
        "      train_losses.append(running_average.numpy())\r\n",
        "      train_accuracies.append(np.mean(accuracies))\r\n",
        "\r\n",
        "      # We print loss and accuracy for each epoch as well as a dynamic plot of them \r\n",
        "      clear_output()\r\n",
        "      print('Epoch: ' + str(epoch+1))\r\n",
        "      print()\r\n",
        "      print(f\"Train Loss: {round(float(train_losses[-1]), 4)}\")\r\n",
        "      print(f\"Train Accuracy: {round(float(train_accuracies[-1]), 4)}\")\r\n",
        "      print()\r\n",
        "      print(f\"This epoch took {timing(start)} seconds\")\r\n",
        "      print()\r\n",
        "      if epoch > 10:\r\n",
        "        visualization(train_losses, train_accuracies, num_epochs)\r\n",
        "\r\n",
        "  print()    \r\n",
        "  model.summary()"
      ],
      "execution_count": 12,
      "outputs": []
    },
    {
      "cell_type": "code",
      "metadata": {
        "colab": {
          "base_uri": "https://localhost:8080/",
          "height": 891
        },
        "id": "R5iblGze6hRF",
        "outputId": "1c4701de-f854-4efb-919a-58c526bb7139"
      },
      "source": [
        "# As we use fairly many training samples, the initial epoch takes around 7 mins.\r\n",
        "# Due to caching and prefetching the subsequent epochs are much faster (4 sec).\r\n",
        "model = LSTM_Model()\r\n",
        "trainModel(model)"
      ],
      "execution_count": 13,
      "outputs": [
        {
          "output_type": "stream",
          "text": [
            "Epoch: 150\n",
            "\n",
            "Train Loss: 0.3918\n",
            "Train Accuracy: 0.8217\n",
            "\n",
            "This epoch took 4.4157 seconds\n",
            "\n"
          ],
          "name": "stdout"
        },
        {
          "output_type": "display_data",
          "data": {
            "image/png": "[encoded data removed]",
            "text/plain": [
              "<Figure size 1440x576 with 2 Axes>"
            ]
          },
          "metadata": {
            "tags": []
          }
        },
        {
          "output_type": "stream",
          "text": [
            "\n",
            "Model: \"lstm__model\"\n",
            "_________________________________________________________________\n",
            "Layer (type)                 Output Shape              Param #   \n",
            "=================================================================\n",
            "dense (Dense)                multiple                  930       \n",
            "_________________________________________________________________\n",
            "lstm (LSTM)                  multiple                  408       \n",
            "_________________________________________________________________\n",
            "dense_5 (Dense)              multiple                  8         \n",
            "=================================================================\n",
            "Total params: 1,346\n",
            "Trainable params: 1,346\n",
            "Non-trainable params: 0\n",
            "_________________________________________________________________\n"
          ],
          "name": "stdout"
        }
      ]
    },
    {
      "cell_type": "markdown",
      "metadata": {
        "id": "NJEmcb5M2EHo"
      },
      "source": [
        "# 4. Training\n",
        "\n",
        "## Truncated BPTT:\n",
        "Since we use seuqences of a fixed length it does not make sense to use TBPTT here. But if we would dertermine the seuqence lenght randomly and thus potentially having large differences between sequences in one batch, it would make sense to truncate each sequence. Otherwise the processing time of one batch is determinded by the longest sequence in the batch. \n",
        "\n",
        "## Classification or Regression:\n",
        "Since we have a binary classification problem at hand (first context digit occurs more often or second context digit occurs more often) it wouldn't make sense to use Regression here (as we would predict a continous regression value instead of one of the two classes)."
      ]
    }
  ]
}