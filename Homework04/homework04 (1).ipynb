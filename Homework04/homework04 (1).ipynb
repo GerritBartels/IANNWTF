{
  "nbformat": 4,
  "nbformat_minor": 0,
  "metadata": {
    "colab": {
      "name": "homework04.ipynb",
      "provenance": [],
      "collapsed_sections": []
    },
    "kernelspec": {
      "name": "python3",
      "display_name": "Python 3"
    },
    "accelerator": "GPU",
    "widgets": {
      "application/vnd.jupyter.widget-state+json": {
        "78630b6a5d6e43b28d93560c3571e5b0": {
          "model_module": "@jupyter-widgets/controls",
          "model_name": "HBoxModel",
          "state": {
            "_view_name": "HBoxView",
            "_dom_classes": [],
            "_model_name": "HBoxModel",
            "_view_module": "@jupyter-widgets/controls",
            "_model_module_version": "1.5.0",
            "_view_count": null,
            "_view_module_version": "1.5.0",
            "box_style": "",
            "layout": "IPY_MODEL_483780dce9bf40ea87c574854d1ea5a8",
            "_model_module": "@jupyter-widgets/controls",
            "children": [
              "IPY_MODEL_ef370da28bfb4f47bbcd16afa414f738",
              "IPY_MODEL_8b302e22536841488cc23b2c654d4712"
            ]
          }
        },
        "483780dce9bf40ea87c574854d1ea5a8": {
          "model_module": "@jupyter-widgets/base",
          "model_name": "LayoutModel",
          "state": {
            "_view_name": "LayoutView",
            "grid_template_rows": null,
            "right": null,
            "justify_content": null,
            "_view_module": "@jupyter-widgets/base",
            "overflow": null,
            "_model_module_version": "1.2.0",
            "_view_count": null,
            "flex_flow": null,
            "width": null,
            "min_width": null,
            "border": null,
            "align_items": null,
            "bottom": null,
            "_model_module": "@jupyter-widgets/base",
            "top": null,
            "grid_column": null,
            "overflow_y": null,
            "overflow_x": null,
            "grid_auto_flow": null,
            "grid_area": null,
            "grid_template_columns": null,
            "flex": null,
            "_model_name": "LayoutModel",
            "justify_items": null,
            "grid_row": null,
            "max_height": null,
            "align_content": null,
            "visibility": null,
            "align_self": null,
            "height": null,
            "min_height": null,
            "padding": null,
            "grid_auto_rows": null,
            "grid_gap": null,
            "max_width": null,
            "order": null,
            "_view_module_version": "1.2.0",
            "grid_template_areas": null,
            "object_position": null,
            "object_fit": null,
            "grid_auto_columns": null,
            "margin": null,
            "display": null,
            "left": null
          }
        },
        "ef370da28bfb4f47bbcd16afa414f738": {
          "model_module": "@jupyter-widgets/controls",
          "model_name": "FloatProgressModel",
          "state": {
            "_view_name": "ProgressView",
            "style": "IPY_MODEL_7cbdac68d03441209770ea2ee1127713",
            "_dom_classes": [],
            "description": "Dl Completed...: 100%",
            "_model_name": "FloatProgressModel",
            "bar_style": "success",
            "max": 1,
            "_view_module": "@jupyter-widgets/controls",
            "_model_module_version": "1.5.0",
            "value": 1,
            "_view_count": null,
            "_view_module_version": "1.5.0",
            "orientation": "horizontal",
            "min": 0,
            "description_tooltip": null,
            "_model_module": "@jupyter-widgets/controls",
            "layout": "IPY_MODEL_34a8790d30da4764b2c561100acb7ecf"
          }
        },
        "8b302e22536841488cc23b2c654d4712": {
          "model_module": "@jupyter-widgets/controls",
          "model_name": "HTMLModel",
          "state": {
            "_view_name": "HTMLView",
            "style": "IPY_MODEL_2f8f6214dace416b8d84376a363634aa",
            "_dom_classes": [],
            "description": "",
            "_model_name": "HTMLModel",
            "placeholder": "​",
            "_view_module": "@jupyter-widgets/controls",
            "_model_module_version": "1.5.0",
            "value": " 1/1 [00:10&lt;00:00, 10.02s/ url]",
            "_view_count": null,
            "_view_module_version": "1.5.0",
            "description_tooltip": null,
            "_model_module": "@jupyter-widgets/controls",
            "layout": "IPY_MODEL_23a04a5e151b4ef1952ab14295a15382"
          }
        },
        "7cbdac68d03441209770ea2ee1127713": {
          "model_module": "@jupyter-widgets/controls",
          "model_name": "ProgressStyleModel",
          "state": {
            "_view_name": "StyleView",
            "_model_name": "ProgressStyleModel",
            "description_width": "initial",
            "_view_module": "@jupyter-widgets/base",
            "_model_module_version": "1.5.0",
            "_view_count": null,
            "_view_module_version": "1.2.0",
            "bar_color": null,
            "_model_module": "@jupyter-widgets/controls"
          }
        },
        "34a8790d30da4764b2c561100acb7ecf": {
          "model_module": "@jupyter-widgets/base",
          "model_name": "LayoutModel",
          "state": {
            "_view_name": "LayoutView",
            "grid_template_rows": null,
            "right": null,
            "justify_content": null,
            "_view_module": "@jupyter-widgets/base",
            "overflow": null,
            "_model_module_version": "1.2.0",
            "_view_count": null,
            "flex_flow": null,
            "width": null,
            "min_width": null,
            "border": null,
            "align_items": null,
            "bottom": null,
            "_model_module": "@jupyter-widgets/base",
            "top": null,
            "grid_column": null,
            "overflow_y": null,
            "overflow_x": null,
            "grid_auto_flow": null,
            "grid_area": null,
            "grid_template_columns": null,
            "flex": null,
            "_model_name": "LayoutModel",
            "justify_items": null,
            "grid_row": null,
            "max_height": null,
            "align_content": null,
            "visibility": null,
            "align_self": null,
            "height": null,
            "min_height": null,
            "padding": null,
            "grid_auto_rows": null,
            "grid_gap": null,
            "max_width": null,
            "order": null,
            "_view_module_version": "1.2.0",
            "grid_template_areas": null,
            "object_position": null,
            "object_fit": null,
            "grid_auto_columns": null,
            "margin": null,
            "display": null,
            "left": null
          }
        },
        "2f8f6214dace416b8d84376a363634aa": {
          "model_module": "@jupyter-widgets/controls",
          "model_name": "DescriptionStyleModel",
          "state": {
            "_view_name": "StyleView",
            "_model_name": "DescriptionStyleModel",
            "description_width": "",
            "_view_module": "@jupyter-widgets/base",
            "_model_module_version": "1.5.0",
            "_view_count": null,
            "_view_module_version": "1.2.0",
            "_model_module": "@jupyter-widgets/controls"
          }
        },
        "23a04a5e151b4ef1952ab14295a15382": {
          "model_module": "@jupyter-widgets/base",
          "model_name": "LayoutModel",
          "state": {
            "_view_name": "LayoutView",
            "grid_template_rows": null,
            "right": null,
            "justify_content": null,
            "_view_module": "@jupyter-widgets/base",
            "overflow": null,
            "_model_module_version": "1.2.0",
            "_view_count": null,
            "flex_flow": null,
            "width": null,
            "min_width": null,
            "border": null,
            "align_items": null,
            "bottom": null,
            "_model_module": "@jupyter-widgets/base",
            "top": null,
            "grid_column": null,
            "overflow_y": null,
            "overflow_x": null,
            "grid_auto_flow": null,
            "grid_area": null,
            "grid_template_columns": null,
            "flex": null,
            "_model_name": "LayoutModel",
            "justify_items": null,
            "grid_row": null,
            "max_height": null,
            "align_content": null,
            "visibility": null,
            "align_self": null,
            "height": null,
            "min_height": null,
            "padding": null,
            "grid_auto_rows": null,
            "grid_gap": null,
            "max_width": null,
            "order": null,
            "_view_module_version": "1.2.0",
            "grid_template_areas": null,
            "object_position": null,
            "object_fit": null,
            "grid_auto_columns": null,
            "margin": null,
            "display": null,
            "left": null
          }
        },
        "2b51de5968704daeaff101203e29d25c": {
          "model_module": "@jupyter-widgets/controls",
          "model_name": "HBoxModel",
          "state": {
            "_view_name": "HBoxView",
            "_dom_classes": [],
            "_model_name": "HBoxModel",
            "_view_module": "@jupyter-widgets/controls",
            "_model_module_version": "1.5.0",
            "_view_count": null,
            "_view_module_version": "1.5.0",
            "box_style": "",
            "layout": "IPY_MODEL_029e3d4c7e0b46039b0a75b3f4ec3b8d",
            "_model_module": "@jupyter-widgets/controls",
            "children": [
              "IPY_MODEL_861459e7267d428285732d6f23ea7c8b",
              "IPY_MODEL_502be66110ef4e3c8d4801786f41a573"
            ]
          }
        },
        "029e3d4c7e0b46039b0a75b3f4ec3b8d": {
          "model_module": "@jupyter-widgets/base",
          "model_name": "LayoutModel",
          "state": {
            "_view_name": "LayoutView",
            "grid_template_rows": null,
            "right": null,
            "justify_content": null,
            "_view_module": "@jupyter-widgets/base",
            "overflow": null,
            "_model_module_version": "1.2.0",
            "_view_count": null,
            "flex_flow": null,
            "width": null,
            "min_width": null,
            "border": null,
            "align_items": null,
            "bottom": null,
            "_model_module": "@jupyter-widgets/base",
            "top": null,
            "grid_column": null,
            "overflow_y": null,
            "overflow_x": null,
            "grid_auto_flow": null,
            "grid_area": null,
            "grid_template_columns": null,
            "flex": null,
            "_model_name": "LayoutModel",
            "justify_items": null,
            "grid_row": null,
            "max_height": null,
            "align_content": null,
            "visibility": null,
            "align_self": null,
            "height": null,
            "min_height": null,
            "padding": null,
            "grid_auto_rows": null,
            "grid_gap": null,
            "max_width": null,
            "order": null,
            "_view_module_version": "1.2.0",
            "grid_template_areas": null,
            "object_position": null,
            "object_fit": null,
            "grid_auto_columns": null,
            "margin": null,
            "display": null,
            "left": null
          }
        },
        "861459e7267d428285732d6f23ea7c8b": {
          "model_module": "@jupyter-widgets/controls",
          "model_name": "FloatProgressModel",
          "state": {
            "_view_name": "ProgressView",
            "style": "IPY_MODEL_9660f35243fc452992e20a7031f14c70",
            "_dom_classes": [],
            "description": "Dl Size...: 100%",
            "_model_name": "FloatProgressModel",
            "bar_style": "success",
            "max": 1,
            "_view_module": "@jupyter-widgets/controls",
            "_model_module_version": "1.5.0",
            "value": 1,
            "_view_count": null,
            "_view_module_version": "1.5.0",
            "orientation": "horizontal",
            "min": 0,
            "description_tooltip": null,
            "_model_module": "@jupyter-widgets/controls",
            "layout": "IPY_MODEL_33c9070874c94c858f2de1527e619baa"
          }
        },
        "502be66110ef4e3c8d4801786f41a573": {
          "model_module": "@jupyter-widgets/controls",
          "model_name": "HTMLModel",
          "state": {
            "_view_name": "HTMLView",
            "style": "IPY_MODEL_b7b8f9609c734ea4a804863d30b8db59",
            "_dom_classes": [],
            "description": "",
            "_model_name": "HTMLModel",
            "placeholder": "​",
            "_view_module": "@jupyter-widgets/controls",
            "_model_module_version": "1.5.0",
            "value": " 337/337 [00:09&lt;00:00, 33.74 MiB/s]",
            "_view_count": null,
            "_view_module_version": "1.5.0",
            "description_tooltip": null,
            "_model_module": "@jupyter-widgets/controls",
            "layout": "IPY_MODEL_c3b647379f4546268df9c7924bd18e78"
          }
        },
        "9660f35243fc452992e20a7031f14c70": {
          "model_module": "@jupyter-widgets/controls",
          "model_name": "ProgressStyleModel",
          "state": {
            "_view_name": "StyleView",
            "_model_name": "ProgressStyleModel",
            "description_width": "initial",
            "_view_module": "@jupyter-widgets/base",
            "_model_module_version": "1.5.0",
            "_view_count": null,
            "_view_module_version": "1.2.0",
            "bar_color": null,
            "_model_module": "@jupyter-widgets/controls"
          }
        },
        "33c9070874c94c858f2de1527e619baa": {
          "model_module": "@jupyter-widgets/base",
          "model_name": "LayoutModel",
          "state": {
            "_view_name": "LayoutView",
            "grid_template_rows": null,
            "right": null,
            "justify_content": null,
            "_view_module": "@jupyter-widgets/base",
            "overflow": null,
            "_model_module_version": "1.2.0",
            "_view_count": null,
            "flex_flow": null,
            "width": null,
            "min_width": null,
            "border": null,
            "align_items": null,
            "bottom": null,
            "_model_module": "@jupyter-widgets/base",
            "top": null,
            "grid_column": null,
            "overflow_y": null,
            "overflow_x": null,
            "grid_auto_flow": null,
            "grid_area": null,
            "grid_template_columns": null,
            "flex": null,
            "_model_name": "LayoutModel",
            "justify_items": null,
            "grid_row": null,
            "max_height": null,
            "align_content": null,
            "visibility": null,
            "align_self": null,
            "height": null,
            "min_height": null,
            "padding": null,
            "grid_auto_rows": null,
            "grid_gap": null,
            "max_width": null,
            "order": null,
            "_view_module_version": "1.2.0",
            "grid_template_areas": null,
            "object_position": null,
            "object_fit": null,
            "grid_auto_columns": null,
            "margin": null,
            "display": null,
            "left": null
          }
        },
        "b7b8f9609c734ea4a804863d30b8db59": {
          "model_module": "@jupyter-widgets/controls",
          "model_name": "DescriptionStyleModel",
          "state": {
            "_view_name": "StyleView",
            "_model_name": "DescriptionStyleModel",
            "description_width": "",
            "_view_module": "@jupyter-widgets/base",
            "_model_module_version": "1.5.0",
            "_view_count": null,
            "_view_module_version": "1.2.0",
            "_model_module": "@jupyter-widgets/controls"
          }
        },
        "c3b647379f4546268df9c7924bd18e78": {
          "model_module": "@jupyter-widgets/base",
          "model_name": "LayoutModel",
          "state": {
            "_view_name": "LayoutView",
            "grid_template_rows": null,
            "right": null,
            "justify_content": null,
            "_view_module": "@jupyter-widgets/base",
            "overflow": null,
            "_model_module_version": "1.2.0",
            "_view_count": null,
            "flex_flow": null,
            "width": null,
            "min_width": null,
            "border": null,
            "align_items": null,
            "bottom": null,
            "_model_module": "@jupyter-widgets/base",
            "top": null,
            "grid_column": null,
            "overflow_y": null,
            "overflow_x": null,
            "grid_auto_flow": null,
            "grid_area": null,
            "grid_template_columns": null,
            "flex": null,
            "_model_name": "LayoutModel",
            "justify_items": null,
            "grid_row": null,
            "max_height": null,
            "align_content": null,
            "visibility": null,
            "align_self": null,
            "height": null,
            "min_height": null,
            "padding": null,
            "grid_auto_rows": null,
            "grid_gap": null,
            "max_width": null,
            "order": null,
            "_view_module_version": "1.2.0",
            "grid_template_areas": null,
            "object_position": null,
            "object_fit": null,
            "grid_auto_columns": null,
            "margin": null,
            "display": null,
            "left": null
          }
        },
        "c7d9daed5002423491e5a3ac43547301": {
          "model_module": "@jupyter-widgets/controls",
          "model_name": "HBoxModel",
          "state": {
            "_view_name": "HBoxView",
            "_dom_classes": [],
            "_model_name": "HBoxModel",
            "_view_module": "@jupyter-widgets/controls",
            "_model_module_version": "1.5.0",
            "_view_count": null,
            "_view_module_version": "1.5.0",
            "box_style": "",
            "layout": "IPY_MODEL_79583f74056d47698c079f878b440966",
            "_model_module": "@jupyter-widgets/controls",
            "children": [
              "IPY_MODEL_0badd3d4b9f24217ba374a863039a9af",
              "IPY_MODEL_d847cb1a4f054701a29ef1e1791bc3bc"
            ]
          }
        },
        "79583f74056d47698c079f878b440966": {
          "model_module": "@jupyter-widgets/base",
          "model_name": "LayoutModel",
          "state": {
            "_view_name": "LayoutView",
            "grid_template_rows": null,
            "right": null,
            "justify_content": null,
            "_view_module": "@jupyter-widgets/base",
            "overflow": null,
            "_model_module_version": "1.2.0",
            "_view_count": null,
            "flex_flow": null,
            "width": null,
            "min_width": null,
            "border": null,
            "align_items": null,
            "bottom": null,
            "_model_module": "@jupyter-widgets/base",
            "top": null,
            "grid_column": null,
            "overflow_y": null,
            "overflow_x": null,
            "grid_auto_flow": null,
            "grid_area": null,
            "grid_template_columns": null,
            "flex": null,
            "_model_name": "LayoutModel",
            "justify_items": null,
            "grid_row": null,
            "max_height": null,
            "align_content": null,
            "visibility": null,
            "align_self": null,
            "height": null,
            "min_height": null,
            "padding": null,
            "grid_auto_rows": null,
            "grid_gap": null,
            "max_width": null,
            "order": null,
            "_view_module_version": "1.2.0",
            "grid_template_areas": null,
            "object_position": null,
            "object_fit": null,
            "grid_auto_columns": null,
            "margin": null,
            "display": null,
            "left": null
          }
        },
        "0badd3d4b9f24217ba374a863039a9af": {
          "model_module": "@jupyter-widgets/controls",
          "model_name": "FloatProgressModel",
          "state": {
            "_view_name": "ProgressView",
            "style": "IPY_MODEL_a9f9f983df2c476a8149bfa35c246de7",
            "_dom_classes": [],
            "description": "Extraction completed...: 100%",
            "_model_name": "FloatProgressModel",
            "bar_style": "success",
            "max": 1,
            "_view_module": "@jupyter-widgets/controls",
            "_model_module_version": "1.5.0",
            "value": 1,
            "_view_count": null,
            "_view_module_version": "1.5.0",
            "orientation": "horizontal",
            "min": 0,
            "description_tooltip": null,
            "_model_module": "@jupyter-widgets/controls",
            "layout": "IPY_MODEL_6a06b352386e43a2b03ae9f2022e1ce7"
          }
        },
        "d847cb1a4f054701a29ef1e1791bc3bc": {
          "model_module": "@jupyter-widgets/controls",
          "model_name": "HTMLModel",
          "state": {
            "_view_name": "HTMLView",
            "style": "IPY_MODEL_6509ef7587d34f6194a49656deb153c8",
            "_dom_classes": [],
            "description": "",
            "_model_name": "HTMLModel",
            "placeholder": "​",
            "_view_module": "@jupyter-widgets/controls",
            "_model_module_version": "1.5.0",
            "value": " 1/1 [00:09&lt;00:00,  9.94s/ file]",
            "_view_count": null,
            "_view_module_version": "1.5.0",
            "description_tooltip": null,
            "_model_module": "@jupyter-widgets/controls",
            "layout": "IPY_MODEL_65ec4ea8213947159d1667b481f2dce8"
          }
        },
        "a9f9f983df2c476a8149bfa35c246de7": {
          "model_module": "@jupyter-widgets/controls",
          "model_name": "ProgressStyleModel",
          "state": {
            "_view_name": "StyleView",
            "_model_name": "ProgressStyleModel",
            "description_width": "initial",
            "_view_module": "@jupyter-widgets/base",
            "_model_module_version": "1.5.0",
            "_view_count": null,
            "_view_module_version": "1.2.0",
            "bar_color": null,
            "_model_module": "@jupyter-widgets/controls"
          }
        },
        "6a06b352386e43a2b03ae9f2022e1ce7": {
          "model_module": "@jupyter-widgets/base",
          "model_name": "LayoutModel",
          "state": {
            "_view_name": "LayoutView",
            "grid_template_rows": null,
            "right": null,
            "justify_content": null,
            "_view_module": "@jupyter-widgets/base",
            "overflow": null,
            "_model_module_version": "1.2.0",
            "_view_count": null,
            "flex_flow": null,
            "width": null,
            "min_width": null,
            "border": null,
            "align_items": null,
            "bottom": null,
            "_model_module": "@jupyter-widgets/base",
            "top": null,
            "grid_column": null,
            "overflow_y": null,
            "overflow_x": null,
            "grid_auto_flow": null,
            "grid_area": null,
            "grid_template_columns": null,
            "flex": null,
            "_model_name": "LayoutModel",
            "justify_items": null,
            "grid_row": null,
            "max_height": null,
            "align_content": null,
            "visibility": null,
            "align_self": null,
            "height": null,
            "min_height": null,
            "padding": null,
            "grid_auto_rows": null,
            "grid_gap": null,
            "max_width": null,
            "order": null,
            "_view_module_version": "1.2.0",
            "grid_template_areas": null,
            "object_position": null,
            "object_fit": null,
            "grid_auto_columns": null,
            "margin": null,
            "display": null,
            "left": null
          }
        },
        "6509ef7587d34f6194a49656deb153c8": {
          "model_module": "@jupyter-widgets/controls",
          "model_name": "DescriptionStyleModel",
          "state": {
            "_view_name": "StyleView",
            "_model_name": "DescriptionStyleModel",
            "description_width": "",
            "_view_module": "@jupyter-widgets/base",
            "_model_module_version": "1.5.0",
            "_view_count": null,
            "_view_module_version": "1.2.0",
            "_model_module": "@jupyter-widgets/controls"
          }
        },
        "65ec4ea8213947159d1667b481f2dce8": {
          "model_module": "@jupyter-widgets/base",
          "model_name": "LayoutModel",
          "state": {
            "_view_name": "LayoutView",
            "grid_template_rows": null,
            "right": null,
            "justify_content": null,
            "_view_module": "@jupyter-widgets/base",
            "overflow": null,
            "_model_module_version": "1.2.0",
            "_view_count": null,
            "flex_flow": null,
            "width": null,
            "min_width": null,
            "border": null,
            "align_items": null,
            "bottom": null,
            "_model_module": "@jupyter-widgets/base",
            "top": null,
            "grid_column": null,
            "overflow_y": null,
            "overflow_x": null,
            "grid_auto_flow": null,
            "grid_area": null,
            "grid_template_columns": null,
            "flex": null,
            "_model_name": "LayoutModel",
            "justify_items": null,
            "grid_row": null,
            "max_height": null,
            "align_content": null,
            "visibility": null,
            "align_self": null,
            "height": null,
            "min_height": null,
            "padding": null,
            "grid_auto_rows": null,
            "grid_gap": null,
            "max_width": null,
            "order": null,
            "_view_module_version": "1.2.0",
            "grid_template_areas": null,
            "object_position": null,
            "object_fit": null,
            "grid_auto_columns": null,
            "margin": null,
            "display": null,
            "left": null
          }
        },
        "3e444c3b02944af2983d08ee8f0f2fa0": {
          "model_module": "@jupyter-widgets/controls",
          "model_name": "HBoxModel",
          "state": {
            "_view_name": "HBoxView",
            "_dom_classes": [],
            "_model_name": "HBoxModel",
            "_view_module": "@jupyter-widgets/controls",
            "_model_module_version": "1.5.0",
            "_view_count": null,
            "_view_module_version": "1.5.0",
            "box_style": "",
            "layout": "IPY_MODEL_b22f7915df2b4f82b5c020f46942ea9b",
            "_model_module": "@jupyter-widgets/controls",
            "children": [
              "IPY_MODEL_4b01c04e5fe84e5eb3c87b882686becd",
              "IPY_MODEL_79891930a19141be958fb08c4dabf120"
            ]
          }
        },
        "b22f7915df2b4f82b5c020f46942ea9b": {
          "model_module": "@jupyter-widgets/base",
          "model_name": "LayoutModel",
          "state": {
            "_view_name": "LayoutView",
            "grid_template_rows": null,
            "right": null,
            "justify_content": null,
            "_view_module": "@jupyter-widgets/base",
            "overflow": null,
            "_model_module_version": "1.2.0",
            "_view_count": null,
            "flex_flow": null,
            "width": null,
            "min_width": null,
            "border": null,
            "align_items": null,
            "bottom": null,
            "_model_module": "@jupyter-widgets/base",
            "top": null,
            "grid_column": null,
            "overflow_y": null,
            "overflow_x": null,
            "grid_auto_flow": null,
            "grid_area": null,
            "grid_template_columns": null,
            "flex": null,
            "_model_name": "LayoutModel",
            "justify_items": null,
            "grid_row": null,
            "max_height": null,
            "align_content": null,
            "visibility": null,
            "align_self": null,
            "height": null,
            "min_height": null,
            "padding": null,
            "grid_auto_rows": null,
            "grid_gap": null,
            "max_width": null,
            "order": null,
            "_view_module_version": "1.2.0",
            "grid_template_areas": null,
            "object_position": null,
            "object_fit": null,
            "grid_auto_columns": null,
            "margin": null,
            "display": null,
            "left": null
          }
        },
        "4b01c04e5fe84e5eb3c87b882686becd": {
          "model_module": "@jupyter-widgets/controls",
          "model_name": "FloatProgressModel",
          "state": {
            "_view_name": "ProgressView",
            "style": "IPY_MODEL_852bd153387c423dbf23d8049704cb0d",
            "_dom_classes": [],
            "description": "",
            "_model_name": "FloatProgressModel",
            "bar_style": "info",
            "max": 1,
            "_view_module": "@jupyter-widgets/controls",
            "_model_module_version": "1.5.0",
            "value": 1,
            "_view_count": null,
            "_view_module_version": "1.5.0",
            "orientation": "horizontal",
            "min": 0,
            "description_tooltip": null,
            "_model_module": "@jupyter-widgets/controls",
            "layout": "IPY_MODEL_532e989a5d154bc5a8d7fba83fde1d7c"
          }
        },
        "79891930a19141be958fb08c4dabf120": {
          "model_module": "@jupyter-widgets/controls",
          "model_name": "HTMLModel",
          "state": {
            "_view_name": "HTMLView",
            "style": "IPY_MODEL_959982cf9da042d4a19f459d0242f53b",
            "_dom_classes": [],
            "description": "",
            "_model_name": "HTMLModel",
            "placeholder": "​",
            "_view_module": "@jupyter-widgets/controls",
            "_model_module_version": "1.5.0",
            "value": " 27558/0 [00:08&lt;00:00, 3226.97 examples/s]",
            "_view_count": null,
            "_view_module_version": "1.5.0",
            "description_tooltip": null,
            "_model_module": "@jupyter-widgets/controls",
            "layout": "IPY_MODEL_9ed951ac4ff04484b3e836960bf58875"
          }
        },
        "852bd153387c423dbf23d8049704cb0d": {
          "model_module": "@jupyter-widgets/controls",
          "model_name": "ProgressStyleModel",
          "state": {
            "_view_name": "StyleView",
            "_model_name": "ProgressStyleModel",
            "description_width": "initial",
            "_view_module": "@jupyter-widgets/base",
            "_model_module_version": "1.5.0",
            "_view_count": null,
            "_view_module_version": "1.2.0",
            "bar_color": null,
            "_model_module": "@jupyter-widgets/controls"
          }
        },
        "532e989a5d154bc5a8d7fba83fde1d7c": {
          "model_module": "@jupyter-widgets/base",
          "model_name": "LayoutModel",
          "state": {
            "_view_name": "LayoutView",
            "grid_template_rows": null,
            "right": null,
            "justify_content": null,
            "_view_module": "@jupyter-widgets/base",
            "overflow": null,
            "_model_module_version": "1.2.0",
            "_view_count": null,
            "flex_flow": null,
            "width": null,
            "min_width": null,
            "border": null,
            "align_items": null,
            "bottom": null,
            "_model_module": "@jupyter-widgets/base",
            "top": null,
            "grid_column": null,
            "overflow_y": null,
            "overflow_x": null,
            "grid_auto_flow": null,
            "grid_area": null,
            "grid_template_columns": null,
            "flex": null,
            "_model_name": "LayoutModel",
            "justify_items": null,
            "grid_row": null,
            "max_height": null,
            "align_content": null,
            "visibility": null,
            "align_self": null,
            "height": null,
            "min_height": null,
            "padding": null,
            "grid_auto_rows": null,
            "grid_gap": null,
            "max_width": null,
            "order": null,
            "_view_module_version": "1.2.0",
            "grid_template_areas": null,
            "object_position": null,
            "object_fit": null,
            "grid_auto_columns": null,
            "margin": null,
            "display": null,
            "left": null
          }
        },
        "959982cf9da042d4a19f459d0242f53b": {
          "model_module": "@jupyter-widgets/controls",
          "model_name": "DescriptionStyleModel",
          "state": {
            "_view_name": "StyleView",
            "_model_name": "DescriptionStyleModel",
            "description_width": "",
            "_view_module": "@jupyter-widgets/base",
            "_model_module_version": "1.5.0",
            "_view_count": null,
            "_view_module_version": "1.2.0",
            "_model_module": "@jupyter-widgets/controls"
          }
        },
        "9ed951ac4ff04484b3e836960bf58875": {
          "model_module": "@jupyter-widgets/base",
          "model_name": "LayoutModel",
          "state": {
            "_view_name": "LayoutView",
            "grid_template_rows": null,
            "right": null,
            "justify_content": null,
            "_view_module": "@jupyter-widgets/base",
            "overflow": null,
            "_model_module_version": "1.2.0",
            "_view_count": null,
            "flex_flow": null,
            "width": null,
            "min_width": null,
            "border": null,
            "align_items": null,
            "bottom": null,
            "_model_module": "@jupyter-widgets/base",
            "top": null,
            "grid_column": null,
            "overflow_y": null,
            "overflow_x": null,
            "grid_auto_flow": null,
            "grid_area": null,
            "grid_template_columns": null,
            "flex": null,
            "_model_name": "LayoutModel",
            "justify_items": null,
            "grid_row": null,
            "max_height": null,
            "align_content": null,
            "visibility": null,
            "align_self": null,
            "height": null,
            "min_height": null,
            "padding": null,
            "grid_auto_rows": null,
            "grid_gap": null,
            "max_width": null,
            "order": null,
            "_view_module_version": "1.2.0",
            "grid_template_areas": null,
            "object_position": null,
            "object_fit": null,
            "grid_auto_columns": null,
            "margin": null,
            "display": null,
            "left": null
          }
        },
        "07dd9c5508564d04b992f8382bc72fd1": {
          "model_module": "@jupyter-widgets/controls",
          "model_name": "HBoxModel",
          "state": {
            "_view_name": "HBoxView",
            "_dom_classes": [],
            "_model_name": "HBoxModel",
            "_view_module": "@jupyter-widgets/controls",
            "_model_module_version": "1.5.0",
            "_view_count": null,
            "_view_module_version": "1.5.0",
            "box_style": "",
            "layout": "IPY_MODEL_34641af8906e4a9b951dd2218ce8a200",
            "_model_module": "@jupyter-widgets/controls",
            "children": [
              "IPY_MODEL_788a6986d90746c79bb9ffc235728f95",
              "IPY_MODEL_4596b539961e49bf906a6adb65acc824"
            ]
          }
        },
        "34641af8906e4a9b951dd2218ce8a200": {
          "model_module": "@jupyter-widgets/base",
          "model_name": "LayoutModel",
          "state": {
            "_view_name": "LayoutView",
            "grid_template_rows": null,
            "right": null,
            "justify_content": null,
            "_view_module": "@jupyter-widgets/base",
            "overflow": null,
            "_model_module_version": "1.2.0",
            "_view_count": null,
            "flex_flow": null,
            "width": null,
            "min_width": null,
            "border": null,
            "align_items": null,
            "bottom": null,
            "_model_module": "@jupyter-widgets/base",
            "top": null,
            "grid_column": null,
            "overflow_y": null,
            "overflow_x": null,
            "grid_auto_flow": null,
            "grid_area": null,
            "grid_template_columns": null,
            "flex": null,
            "_model_name": "LayoutModel",
            "justify_items": null,
            "grid_row": null,
            "max_height": null,
            "align_content": null,
            "visibility": null,
            "align_self": null,
            "height": null,
            "min_height": null,
            "padding": null,
            "grid_auto_rows": null,
            "grid_gap": null,
            "max_width": null,
            "order": null,
            "_view_module_version": "1.2.0",
            "grid_template_areas": null,
            "object_position": null,
            "object_fit": null,
            "grid_auto_columns": null,
            "margin": null,
            "display": null,
            "left": null
          }
        },
        "788a6986d90746c79bb9ffc235728f95": {
          "model_module": "@jupyter-widgets/controls",
          "model_name": "FloatProgressModel",
          "state": {
            "_view_name": "ProgressView",
            "style": "IPY_MODEL_aaba63e685214f3f9753402fbd3e295f",
            "_dom_classes": [],
            "description": " 92%",
            "_model_name": "FloatProgressModel",
            "bar_style": "danger",
            "max": 27558,
            "_view_module": "@jupyter-widgets/controls",
            "_model_module_version": "1.5.0",
            "value": 25376,
            "_view_count": null,
            "_view_module_version": "1.5.0",
            "orientation": "horizontal",
            "min": 0,
            "description_tooltip": null,
            "_model_module": "@jupyter-widgets/controls",
            "layout": "IPY_MODEL_e67351a3c8ff40cfb20d32cdb666aa90"
          }
        },
        "4596b539961e49bf906a6adb65acc824": {
          "model_module": "@jupyter-widgets/controls",
          "model_name": "HTMLModel",
          "state": {
            "_view_name": "HTMLView",
            "style": "IPY_MODEL_14c015080032403b949bac0ef4e8df92",
            "_dom_classes": [],
            "description": "",
            "_model_name": "HTMLModel",
            "placeholder": "​",
            "_view_module": "@jupyter-widgets/controls",
            "_model_module_version": "1.5.0",
            "value": " 25376/27558 [00:06&lt;00:00, 34347.99 examples/s]",
            "_view_count": null,
            "_view_module_version": "1.5.0",
            "description_tooltip": null,
            "_model_module": "@jupyter-widgets/controls",
            "layout": "IPY_MODEL_11529d84702e49c183d99e6e644239dd"
          }
        },
        "aaba63e685214f3f9753402fbd3e295f": {
          "model_module": "@jupyter-widgets/controls",
          "model_name": "ProgressStyleModel",
          "state": {
            "_view_name": "StyleView",
            "_model_name": "ProgressStyleModel",
            "description_width": "initial",
            "_view_module": "@jupyter-widgets/base",
            "_model_module_version": "1.5.0",
            "_view_count": null,
            "_view_module_version": "1.2.0",
            "bar_color": null,
            "_model_module": "@jupyter-widgets/controls"
          }
        },
        "e67351a3c8ff40cfb20d32cdb666aa90": {
          "model_module": "@jupyter-widgets/base",
          "model_name": "LayoutModel",
          "state": {
            "_view_name": "LayoutView",
            "grid_template_rows": null,
            "right": null,
            "justify_content": null,
            "_view_module": "@jupyter-widgets/base",
            "overflow": null,
            "_model_module_version": "1.2.0",
            "_view_count": null,
            "flex_flow": null,
            "width": null,
            "min_width": null,
            "border": null,
            "align_items": null,
            "bottom": null,
            "_model_module": "@jupyter-widgets/base",
            "top": null,
            "grid_column": null,
            "overflow_y": null,
            "overflow_x": null,
            "grid_auto_flow": null,
            "grid_area": null,
            "grid_template_columns": null,
            "flex": null,
            "_model_name": "LayoutModel",
            "justify_items": null,
            "grid_row": null,
            "max_height": null,
            "align_content": null,
            "visibility": null,
            "align_self": null,
            "height": null,
            "min_height": null,
            "padding": null,
            "grid_auto_rows": null,
            "grid_gap": null,
            "max_width": null,
            "order": null,
            "_view_module_version": "1.2.0",
            "grid_template_areas": null,
            "object_position": null,
            "object_fit": null,
            "grid_auto_columns": null,
            "margin": null,
            "display": null,
            "left": null
          }
        },
        "14c015080032403b949bac0ef4e8df92": {
          "model_module": "@jupyter-widgets/controls",
          "model_name": "DescriptionStyleModel",
          "state": {
            "_view_name": "StyleView",
            "_model_name": "DescriptionStyleModel",
            "description_width": "",
            "_view_module": "@jupyter-widgets/base",
            "_model_module_version": "1.5.0",
            "_view_count": null,
            "_view_module_version": "1.2.0",
            "_model_module": "@jupyter-widgets/controls"
          }
        },
        "11529d84702e49c183d99e6e644239dd": {
          "model_module": "@jupyter-widgets/base",
          "model_name": "LayoutModel",
          "state": {
            "_view_name": "LayoutView",
            "grid_template_rows": null,
            "right": null,
            "justify_content": null,
            "_view_module": "@jupyter-widgets/base",
            "overflow": null,
            "_model_module_version": "1.2.0",
            "_view_count": null,
            "flex_flow": null,
            "width": null,
            "min_width": null,
            "border": null,
            "align_items": null,
            "bottom": null,
            "_model_module": "@jupyter-widgets/base",
            "top": null,
            "grid_column": null,
            "overflow_y": null,
            "overflow_x": null,
            "grid_auto_flow": null,
            "grid_area": null,
            "grid_template_columns": null,
            "flex": null,
            "_model_name": "LayoutModel",
            "justify_items": null,
            "grid_row": null,
            "max_height": null,
            "align_content": null,
            "visibility": null,
            "align_self": null,
            "height": null,
            "min_height": null,
            "padding": null,
            "grid_auto_rows": null,
            "grid_gap": null,
            "max_width": null,
            "order": null,
            "_view_module_version": "1.2.0",
            "grid_template_areas": null,
            "object_position": null,
            "object_fit": null,
            "grid_auto_columns": null,
            "margin": null,
            "display": null,
            "left": null
          }
        }
      }
    }
  },
  "cells": [
    {
      "cell_type": "code",
      "metadata": {
        "id": "7TcAmfB3B9ZM"
      },
      "source": [
        "import numpy as np\n",
        "import tensorflow as tf\n",
        "# next line only for Colab\n",
        "%tensorflow_version 2.x\n",
        "# import tensorflow-datasets to be able to access the tensorflow inbuilt datasets\n",
        "import tensorflow_datasets as tfds\n",
        "import matplotlib.pyplot as plt"
      ],
      "execution_count": 1,
      "outputs": []
    },
    {
      "cell_type": "markdown",
      "metadata": {
        "id": "nWq5erIUirx3"
      },
      "source": [
        "## 1. Load the Dataset"
      ]
    },
    {
      "cell_type": "code",
      "metadata": {
        "id": "BpOdVQeth5pw",
        "colab": {
          "base_uri": "https://localhost:8080/",
          "height": 298,
          "referenced_widgets": [
            "78630b6a5d6e43b28d93560c3571e5b0",
            "483780dce9bf40ea87c574854d1ea5a8",
            "ef370da28bfb4f47bbcd16afa414f738",
            "8b302e22536841488cc23b2c654d4712",
            "7cbdac68d03441209770ea2ee1127713",
            "34a8790d30da4764b2c561100acb7ecf",
            "2f8f6214dace416b8d84376a363634aa",
            "23a04a5e151b4ef1952ab14295a15382",
            "2b51de5968704daeaff101203e29d25c",
            "029e3d4c7e0b46039b0a75b3f4ec3b8d",
            "861459e7267d428285732d6f23ea7c8b",
            "502be66110ef4e3c8d4801786f41a573",
            "9660f35243fc452992e20a7031f14c70",
            "33c9070874c94c858f2de1527e619baa",
            "b7b8f9609c734ea4a804863d30b8db59",
            "c3b647379f4546268df9c7924bd18e78",
            "c7d9daed5002423491e5a3ac43547301",
            "79583f74056d47698c079f878b440966",
            "0badd3d4b9f24217ba374a863039a9af",
            "d847cb1a4f054701a29ef1e1791bc3bc",
            "a9f9f983df2c476a8149bfa35c246de7",
            "6a06b352386e43a2b03ae9f2022e1ce7",
            "6509ef7587d34f6194a49656deb153c8",
            "65ec4ea8213947159d1667b481f2dce8",
            "3e444c3b02944af2983d08ee8f0f2fa0",
            "b22f7915df2b4f82b5c020f46942ea9b",
            "4b01c04e5fe84e5eb3c87b882686becd",
            "79891930a19141be958fb08c4dabf120",
            "852bd153387c423dbf23d8049704cb0d",
            "532e989a5d154bc5a8d7fba83fde1d7c",
            "959982cf9da042d4a19f459d0242f53b",
            "9ed951ac4ff04484b3e836960bf58875",
            "07dd9c5508564d04b992f8382bc72fd1",
            "34641af8906e4a9b951dd2218ce8a200",
            "788a6986d90746c79bb9ffc235728f95",
            "4596b539961e49bf906a6adb65acc824",
            "aaba63e685214f3f9753402fbd3e295f",
            "e67351a3c8ff40cfb20d32cdb666aa90",
            "14c015080032403b949bac0ef4e8df92",
            "11529d84702e49c183d99e6e644239dd"
          ]
        },
        "outputId": "b18435ce-78be-4894-83ae-8cad8a92376c"
      },
      "source": [
        "training_data = tfds.load(\"malaria\", split=\"train[:80%]\", as_supervised=True)\n",
        "test_data = tfds.load(\"malaria\", split=\"train[-20%:]\", as_supervised=True)"
      ],
      "execution_count": 2,
      "outputs": [
        {
          "output_type": "stream",
          "text": [
            "\u001b[1mDownloading and preparing dataset malaria/1.0.0 (download: 337.08 MiB, generated: Unknown size, total: 337.08 MiB) to /root/tensorflow_datasets/malaria/1.0.0...\u001b[0m\n"
          ],
          "name": "stdout"
        },
        {
          "output_type": "display_data",
          "data": {
            "application/vnd.jupyter.widget-view+json": {
              "model_id": "78630b6a5d6e43b28d93560c3571e5b0",
              "version_minor": 0,
              "version_major": 2
            },
            "text/plain": [
              "HBox(children=(FloatProgress(value=1.0, bar_style='info', description='Dl Completed...', max=1.0, style=Progre…"
            ]
          },
          "metadata": {
            "tags": []
          }
        },
        {
          "output_type": "display_data",
          "data": {
            "application/vnd.jupyter.widget-view+json": {
              "model_id": "2b51de5968704daeaff101203e29d25c",
              "version_minor": 0,
              "version_major": 2
            },
            "text/plain": [
              "HBox(children=(FloatProgress(value=1.0, bar_style='info', description='Dl Size...', max=1.0, style=ProgressSty…"
            ]
          },
          "metadata": {
            "tags": []
          }
        },
        {
          "output_type": "display_data",
          "data": {
            "application/vnd.jupyter.widget-view+json": {
              "model_id": "c7d9daed5002423491e5a3ac43547301",
              "version_minor": 0,
              "version_major": 2
            },
            "text/plain": [
              "HBox(children=(FloatProgress(value=1.0, bar_style='info', description='Extraction completed...', max=1.0, styl…"
            ]
          },
          "metadata": {
            "tags": []
          }
        },
        {
          "output_type": "stream",
          "text": [
            "\n",
            "\n",
            "\n",
            "\n",
            "\n",
            "\n"
          ],
          "name": "stdout"
        },
        {
          "output_type": "display_data",
          "data": {
            "application/vnd.jupyter.widget-view+json": {
              "model_id": "3e444c3b02944af2983d08ee8f0f2fa0",
              "version_minor": 0,
              "version_major": 2
            },
            "text/plain": [
              "HBox(children=(FloatProgress(value=1.0, bar_style='info', max=1.0), HTML(value='')))"
            ]
          },
          "metadata": {
            "tags": []
          }
        },
        {
          "output_type": "stream",
          "text": [
            "\rShuffling and writing examples to /root/tensorflow_datasets/malaria/1.0.0.incompleteEOS3OW/malaria-train.tfrecord\n"
          ],
          "name": "stdout"
        },
        {
          "output_type": "display_data",
          "data": {
            "application/vnd.jupyter.widget-view+json": {
              "model_id": "07dd9c5508564d04b992f8382bc72fd1",
              "version_minor": 0,
              "version_major": 2
            },
            "text/plain": [
              "HBox(children=(FloatProgress(value=0.0, max=27558.0), HTML(value='')))"
            ]
          },
          "metadata": {
            "tags": []
          }
        },
        {
          "output_type": "stream",
          "text": [
            "\u001b[1mDataset malaria downloaded and prepared to /root/tensorflow_datasets/malaria/1.0.0. Subsequent calls will reuse this data.\u001b[0m\n"
          ],
          "name": "stdout"
        }
      ]
    },
    {
      "cell_type": "markdown",
      "metadata": {
        "id": "h901ZNhui6Tu"
      },
      "source": [
        "### Plotting exemplary images with their shapes\n",
        "\n"
      ]
    },
    {
      "cell_type": "code",
      "metadata": {
        "colab": {
          "base_uri": "https://localhost:8080/",
          "height": 261
        },
        "id": "Dk3W_hElDD_2",
        "outputId": "99762a4b-0c15-4e39-9314-9b864ef5b265"
      },
      "source": [
        "# Plotting the first 5 images in our training data -> all of them have different shapes\n",
        "fig, ax = plt.subplots(1,5, figsize = (20,20))\n",
        "\n",
        "for i, (image,label) in enumerate(training_data):\n",
        "  img = image\n",
        "  lbl = label.numpy(), image.shape \n",
        "  ax[i].imshow(img)\n",
        "  ax[i].set_title(lbl)\n",
        "  ax[i].axis(\"off\")\n",
        "  if i >= 4:\n",
        "    break"
      ],
      "execution_count": 59,
      "outputs": [
        {
          "output_type": "display_data",
          "data": {
            "image/png": "[encoded data removed]",
            "text/plain": [
              "<Figure size 1440x1440 with 5 Axes>"
            ]
          },
          "metadata": {
            "tags": []
          }
        }
      ]
    },
    {
      "cell_type": "markdown",
      "metadata": {
        "id": "MtFQovuUw6VY"
      },
      "source": [
        "## In case one needs to obtain the smallest dimension over all images in order to downscale the dataset.\n",
        "```\n",
        "print(np.min([i.shape[0:2] for i,_ in training_data]))\n",
        "print(np.min([i.shape[0:2] for i,_ in test_data]))\n",
        "```\n"
      ]
    },
    {
      "cell_type": "code",
      "metadata": {
        "colab": {
          "base_uri": "https://localhost:8080/"
        },
        "id": "omTC1p6582hv",
        "outputId": "9ccd3f1c-15e4-4468-813e-8eb922bae9c8"
      },
      "source": [
        "# extract the maximum and minimum pixel value such that we can normalize our data \n",
        "print(\"Maximum Pixel value for the trainings data: \", np.max([np.max(i.numpy()) for i,_ in training_data]))\n",
        "print(\"Maximum Pixel value for the test data: \", np.max([np.max(i.numpy()) for i,_ in test_data]))\n",
        "print(\"Minimum Pixel value for the trainings data: \", np.min([np.min(i.numpy()) for i,_ in training_data]))\n",
        "print(\"Minimum Pixel value for the test data: \", np.min([np.min(i.numpy()) for i,_ in test_data]))"
      ],
      "execution_count": 5,
      "outputs": [
        {
          "output_type": "stream",
          "text": [
            "Maximum Pixel value for the trainings data:  255\n",
            "Maximum Pixel value for the test data:  255\n",
            "Minimum Pixel value for the trainings data:  0\n",
            "Minimum Pixel value for the test data:  0\n"
          ],
          "name": "stdout"
        }
      ]
    },
    {
      "cell_type": "markdown",
      "metadata": {
        "id": "fL5QrKBVmx-X"
      },
      "source": [
        "### Data Pipeline where every Datapoint is loaded into RAM"
      ]
    },
    {
      "cell_type": "code",
      "metadata": {
        "id": "ewRNNCwEJl-2"
      },
      "source": [
        "# resize the images to 64x64 but keep the original ratio of each image\n",
        "images_train = [tf.image.resize_with_pad(image, 64, 64)/255.0 for image,_ in training_data]\n",
        "labels_train = [label for _,label in training_data]\n",
        "images_test = [tf.image.resize_with_pad(image, 64, 64)/255.0 for image,_ in test_data]\n",
        "labels_test = [label for _,label in test_data]"
      ],
      "execution_count": 6,
      "outputs": []
    },
    {
      "cell_type": "code",
      "metadata": {
        "id": "_L3YcKyFxWVl"
      },
      "source": [
        "# Create tensorflow Datasets from train images and labels respectively\n",
        "train_dataset_img = tf.data.Dataset.from_tensor_slices(images_train)\n",
        "train_dataset_labels = tf.data.Dataset.from_tensor_slices(labels_train)\n",
        "\n",
        "# onehot encode the target label using 2 digits representing the one of the two classes\n",
        "train_dataset_labels = train_dataset_labels.map(lambda t : tf.one_hot(t, 2))\n",
        " \n",
        "# zip together the freshly created Datasets ((input, label) pairs)\n",
        "train_dataset = tf.data.Dataset.zip((train_dataset_img, train_dataset_labels))\n",
        "\n",
        "# shuffle, batch and prefetch the zipped dataset, everytime we access train_dataset it will be reshuffled (decreases chance of overfitting)\n",
        "train_dataset = train_dataset.shuffle(buffer_size=1000, reshuffle_each_iteration=True)\n",
        "train_dataset = train_dataset.batch(128)\n",
        "train_dataset = train_dataset.prefetch(20)\n",
        " \n",
        "# repeat the process for our test data\n",
        "test_dataset_img = tf.data.Dataset.from_tensor_slices(images_test)\n",
        "test_dataset_labels = tf.data.Dataset.from_tensor_slices(labels_test)\n",
        "test_dataset_labels = test_dataset_labels.map(lambda t : tf.one_hot(t, 2))\n",
        " \n",
        "test_dataset = tf.data.Dataset.zip((test_dataset_img, test_dataset_labels))\n",
        "test_dataset = test_dataset.shuffle(buffer_size=1000, reshuffle_each_iteration=True)\n",
        "test_dataset = test_dataset.batch(128)\n",
        "test_dataset = test_dataset.prefetch(20)"
      ],
      "execution_count": 41,
      "outputs": []
    },
    {
      "cell_type": "markdown",
      "metadata": {
        "id": "2ypczo4Ntq8L"
      },
      "source": [
        "### Alternative Data Pipeline where data isn't loaded into RAM (prolonged training time)\n",
        "\n",
        "```\n",
        "malaria_train, malaria_test = tfds.load(\"malaria\", split=[\"train[:80%]\", \"train[-20%:]\"], shuffle_files=True, as_supervised=True)\n",
        "\n",
        "train_dataset = malaria_train.map(lambda img, lbl : (tf.image.resize_with_pad(img, 40, 40)/255.0, tf.one_hot(lbl, 2)))\n",
        "train_dataset = train_dataset.shuffle(buffer_size=1000, reshuffle_each_iteration=True)\n",
        "train_dataset = train_dataset.batch(128)\n",
        "train_dataset = train_dataset.prefetch(10)\n",
        "\n",
        "test_dataset = malaria_test.map(lambda img, lbl : (tf.image.resize_with_pad(img, 40, 40)/255.0, tf.one_hot(lbl, 2)))\n",
        "test_dataset = test_dataset.shuffle(buffer_size=1000, reshuffle_each_iteration=True)\n",
        "test_dataset = test_dataset.batch(128)\n",
        "test_dataset = test_dataset.prefetch(10)\n",
        "```\n"
      ]
    },
    {
      "cell_type": "markdown",
      "metadata": {
        "id": "Zf51x3vplVkW"
      },
      "source": [
        "### Plotting to confirm that the resizing worked"
      ]
    },
    {
      "cell_type": "code",
      "metadata": {
        "colab": {
          "base_uri": "https://localhost:8080/",
          "height": 240
        },
        "id": "EezalRO7P8GK",
        "outputId": "3427e314-d7e6-40b2-bee0-c3709d56cc12"
      },
      "source": [
        "# All images have the same shape now\n",
        "fig, ax = plt.subplots(1,5, figsize = (20,20))\n",
        "\n",
        "for i, entry in enumerate(train_dataset):\n",
        "  img = entry[0][i]\n",
        "  lbl = entry[0][i].shape\n",
        " \n",
        "  ax[i].imshow(img)\n",
        "  ax[i].set_title(lbl)\n",
        "  ax[i].axis(\"off\")\n",
        "  if i >= 4:\n",
        "    break"
      ],
      "execution_count": 79,
      "outputs": [
        {
          "output_type": "display_data",
          "data": {
            "image/png": "[encoded data removed]",
            "text/plain": [
              "<Figure size 1440x1440 with 5 Axes>"
            ]
          },
          "metadata": {
            "tags": []
          }
        }
      ]
    },
    {
      "cell_type": "markdown",
      "metadata": {
        "id": "5Gq35Ma5llxc"
      },
      "source": [
        "## 2. Model"
      ]
    },
    {
      "cell_type": "code",
      "metadata": {
        "id": "HxP0F0F5BJ3E"
      },
      "source": [
        "# We will implement a CNN\n",
        "\n",
        "# Our network will have the following layers:\n",
        "# Input : 64x64x3 images\n",
        "# Convolutional layer 1: filters = 32 , kernel_size = 5, strides = (1,1), padding = \"valid\",  activation = relu\n",
        "# Convolutional layer 2: filters = 64 , kernel_size = 5, strides = (1,1), padding = \"valid\",  activation = relu\n",
        "# Max Pool layer 3: pool_size = (2,2), strides = (2,2)\n",
        "# Convolutional layer 4: filters = 128 , kernel_size = 5, strides = (1,1), padding = \"valid\",  activation = relu\n",
        "# Global Max Pool layer 5: takes max values from each feature map\n",
        "# Output Layer: 2 units. With softmax activation function.\n",
        "\n",
        "from tensorflow.keras import Model\n",
        "from tensorflow.keras.layers import Layer\n",
        "\n",
        "class Model(Model): \n",
        "    \"\"\"Class for creating a Neural Network which inherits from the Model class from keras \n",
        "    \"\"\"\n",
        "\n",
        "    def __init__(self):\n",
        "      \"\"\"Initialize a network with a variable amount of keras.Layers\n",
        "      \"\"\"\n",
        "      # use the keyword super to allow our network to access the init() form the keras Model class\n",
        "      super(Model, self).__init__()\n",
        "\n",
        "      # Define the layers structure.\n",
        "      self.conv_layer_1 = tf.keras.layers.Conv2D(filters = 32 , kernel_size = 5, strides = (1,1), padding = \"valid\",  activation = tf.keras.activations.relu, input_shape = (64,64,3))\n",
        "      self.conv_layer_2 = tf.keras.layers.Conv2D(filters = 64 , kernel_size = 5, strides = (1,1), padding = \"valid\",  activation  = tf.keras.activations.relu)\n",
        "      self.maxPool_layer_3 = tf.keras.layers.MaxPool2D(pool_size =(2,2), strides = (2,2))\n",
        "      self.conv_layer_4 = tf.keras.layers.Conv2D(filters = 128 , kernel_size = 5, strides = (1,1), padding = \"valid\",  activation = tf.keras.activations.relu)\n",
        "      self.globPool_layer_5 = tf.keras.layers.GlobalMaxPooling2D() \n",
        "      self.output_layer = tf.keras.layers.Dense(units=2, activation=tf.keras.activations.softmax)\n",
        "        \n",
        "    # use the decorator @tf.function to speed up the model call    \n",
        "    @tf.function    \n",
        "    def call(self, x):\n",
        "      \"\"\"Activate our model propagating the input through the network layer by layer\n",
        "\n",
        "      Arguments:\n",
        "        x (Tensor): Tensor containing the input to our network\n",
        "\n",
        "      Returns:\n",
        "        x (Tensor): Tensor containing the probabilities for the two classes\n",
        "      \"\"\"\n",
        "      x = self.conv_layer_1(x)\n",
        "      x = self.conv_layer_2(x)\n",
        "      x = self.maxPool_layer_3(x)\n",
        "      x = self.conv_layer_4(x)\n",
        "      x = self.globPool_layer_5(x)\n",
        "      x = self.output_layer(x)\n",
        "      return x\n",
        "  "
      ],
      "execution_count": 9,
      "outputs": []
    },
    {
      "cell_type": "markdown",
      "metadata": {
        "id": "GmjXH79YloG6"
      },
      "source": [
        "## 3. Training "
      ]
    },
    {
      "cell_type": "code",
      "metadata": {
        "id": "JHL-5MEWJUce"
      },
      "source": [
        "def train_step(model, input, target, loss_function, optimizer):\n",
        "  \"\"\"Perform a training step for a given Neural Network by\n",
        "  1. Propagating the input through the network\n",
        "  2. Calculating the loss between the networks output and the true targets \n",
        "  2. Performing Backpropagation and Updating the trainable variables witht the calculated gradients \n",
        " \n",
        "  Arguments:\n",
        "    model (Model): given instance of an initialised Neural Network with all its parameters\n",
        "    input (EagerTensor): Tensor containing the input data \n",
        "    target (EagerTensor): Tensor containing the respective targets \n",
        "    loss_function (keras.losses): function from keras to calculate the loss\n",
        "    optimizer (keras.optimizers): function from keras defining the to be applied optimizer during learning \n",
        " \n",
        "  Returns:\n",
        "    loss (EagerTensor): Tensor containing the loss of the Network \n",
        "  \"\"\"\n",
        "  # loss_object and optimizer_object are instances of respective tensorflow classes\n",
        "  with tf.GradientTape() as tape:\n",
        "    # 1.\n",
        "    prediction = model(input)\n",
        "    # 2.\n",
        "    loss = loss_function(target, prediction)\n",
        "    # 3.\n",
        "    gradients = tape.gradient(loss, model.trainable_variables)\n",
        "  optimizer.apply_gradients(zip(gradients, model.trainable_variables))\n",
        " \n",
        "  return loss \n",
        " \n",
        "def test(model, test_data, loss_function):\n",
        "  \"\"\"Tests the models accuracy and loss over the given data set with a given loss_function\n",
        " \n",
        "  Arguments:\n",
        "    model (Model): given instance of an initialised Neural Network with all its parameters\n",
        "    test_data (Dataset): test dataset to test the NN on \n",
        "    loss_function (keras.losses): function from keras to calculate the loss \n",
        " \n",
        "  Returns:\n",
        "    test_loss (float): Average loss of the Neural Network over the test set\n",
        "    test_accuracy (float): Average accuray of the Neural Network over the test set\n",
        "  \"\"\"\n",
        "  # test over complete test data\n",
        "  test_accuracy_aggregator = []\n",
        "  test_loss_aggregator = []\n",
        "  \n",
        "  for (input, target) in test_data:\n",
        "    prediction = model(input)\n",
        "    \n",
        "    # calculates the loss value (as a tensors) for an entire batch \n",
        "    sample_test_loss = loss_function(target, prediction)\n",
        " \n",
        "    # creates a boolean array of dimension (100,) for each batch \n",
        "    # each entry represents whether one (sequence, label) pair was predicted correctly \n",
        "    sample_test_accuracy =  np.argmax(target, axis=1) == np.argmax(prediction, axis=1)\n",
        " \n",
        "    # take the mean over each boolean array to obtain the average accuracy for one batch \n",
        "    sample_test_accuracy = np.mean(sample_test_accuracy)\n",
        "    test_loss_aggregator.append(sample_test_loss.numpy())\n",
        " \n",
        "    # append the mean of all batch accuracies  \n",
        "    test_accuracy_aggregator.append(np.mean(sample_test_accuracy))\n",
        " \n",
        "  test_loss = np.mean(test_loss_aggregator)\n",
        "  test_accuracy = np.mean(test_accuracy_aggregator)\n",
        " \n",
        "  return test_loss, test_accuracy"
      ],
      "execution_count": 10,
      "outputs": []
    },
    {
      "cell_type": "code",
      "metadata": {
        "colab": {
          "base_uri": "https://localhost:8080/"
        },
        "id": "_8_EKLTqLb3L",
        "outputId": "92285d3d-29c1-4f2d-ea95-fabf10c03131"
      },
      "source": [
        "tf.keras.backend.clear_session()\n",
        " \n",
        "### Hyperparameters\n",
        "num_epochs = 34\n",
        "learning_rate = 0.001\n",
        "running_average_factor = 0.95\n",
        " \n",
        "# Initialize the model.\n",
        "model = Model()\n",
        "# Initialize the loss: categorical cross entropy.\n",
        "cross_entropy_loss = tf.keras.losses.BinaryCrossentropy(learning_rate)\n",
        "# Initialize the optimizer: Adam with default parameters.\n",
        "optimizer = tf.keras.optimizers.Adam()\n",
        " \n",
        "# Initialize lists for later visualization.\n",
        "train_losses = []\n",
        "test_losses = []\n",
        "test_accuracies = []\n",
        "train_accuracies = []\n",
        " \n",
        "# testing once before we begin on the test data\n",
        "test_loss, test_accuracy = test(model, test_dataset, cross_entropy_loss)\n",
        "test_losses.append(test_loss)\n",
        "test_accuracies.append(test_accuracy)\n",
        " \n",
        "# check how model performs on train data once before we begin\n",
        "train_loss, train_accuracy = test(model, train_dataset, cross_entropy_loss)\n",
        "train_losses.append(train_loss)\n",
        "train_accuracies.append(train_accuracy)\n",
        " \n",
        "# We train for num_epochs epochs.\n",
        "for epoch in range(num_epochs):\n",
        "    print('Epoch: __ ' + str(epoch))\n",
        " \n",
        "    # training (and checking in with training)\n",
        "    running_average = 0\n",
        "    for (input,target) in train_dataset:\n",
        "        train_loss = train_step(model, input, target, cross_entropy_loss, optimizer)\n",
        "        running_average = running_average_factor * running_average  + (1 - running_average_factor) * train_loss\n",
        "    train_losses.append(running_average)\n",
        " \n",
        "    # testing\n",
        "    test_loss, test_accuracy = test(model, test_dataset, cross_entropy_loss)\n",
        "    test_losses.append(test_loss)\n",
        "    test_accuracies.append(test_accuracy)\n",
        " \n",
        "    _, train_accuracy = test(model, train_dataset, cross_entropy_loss)\n",
        "    train_accuracies.append(train_accuracy)"
      ],
      "execution_count": 42,
      "outputs": [
        {
          "output_type": "stream",
          "text": [
            "Epoch: __ 0\n",
            "Epoch: __ 1\n",
            "Epoch: __ 2\n",
            "Epoch: __ 3\n",
            "Epoch: __ 4\n",
            "Epoch: __ 5\n",
            "Epoch: __ 6\n",
            "Epoch: __ 7\n",
            "Epoch: __ 8\n",
            "Epoch: __ 9\n",
            "Epoch: __ 10\n",
            "Epoch: __ 11\n",
            "Epoch: __ 12\n",
            "Epoch: __ 13\n",
            "Epoch: __ 14\n",
            "Epoch: __ 15\n",
            "Epoch: __ 16\n",
            "Epoch: __ 17\n",
            "Epoch: __ 18\n",
            "Epoch: __ 19\n",
            "Epoch: __ 20\n",
            "Epoch: __ 21\n",
            "Epoch: __ 22\n",
            "Epoch: __ 23\n",
            "Epoch: __ 24\n",
            "Epoch: __ 25\n",
            "Epoch: __ 26\n",
            "Epoch: __ 27\n",
            "Epoch: __ 28\n",
            "Epoch: __ 29\n",
            "Epoch: __ 30\n",
            "Epoch: __ 31\n",
            "Epoch: __ 32\n",
            "Epoch: __ 33\n"
          ],
          "name": "stdout"
        }
      ]
    },
    {
      "cell_type": "code",
      "metadata": {
        "id": "2rxjZO2lBvCs",
        "colab": {
          "base_uri": "https://localhost:8080/"
        },
        "outputId": "a95b2fc3-1f0b-4173-a782-7ffd2af893c9"
      },
      "source": [
        "# Overview of the models parameters\n",
        "model.summary()"
      ],
      "execution_count": 14,
      "outputs": [
        {
          "output_type": "stream",
          "text": [
            "Model: \"model\"\n",
            "_________________________________________________________________\n",
            "Layer (type)                 Output Shape              Param #   \n",
            "=================================================================\n",
            "conv2d (Conv2D)              multiple                  2432      \n",
            "_________________________________________________________________\n",
            "conv2d_1 (Conv2D)            multiple                  51264     \n",
            "_________________________________________________________________\n",
            "max_pooling2d (MaxPooling2D) multiple                  0         \n",
            "_________________________________________________________________\n",
            "conv2d_2 (Conv2D)            multiple                  204928    \n",
            "_________________________________________________________________\n",
            "global_max_pooling2d (Global multiple                  0         \n",
            "_________________________________________________________________\n",
            "dense (Dense)                multiple                  258       \n",
            "=================================================================\n",
            "Total params: 258,882\n",
            "Trainable params: 258,882\n",
            "Non-trainable params: 0\n",
            "_________________________________________________________________\n"
          ],
          "name": "stdout"
        }
      ]
    },
    {
      "cell_type": "markdown",
      "metadata": {
        "id": "wGHFSC_9lvxe"
      },
      "source": [
        "## 4. Visualization"
      ]
    },
    {
      "cell_type": "code",
      "metadata": {
        "colab": {
          "base_uri": "https://localhost:8080/",
          "height": 534
        },
        "id": "n-bCNV1xLoWq",
        "outputId": "9bf9b673-f4f7-4ce6-f7aa-1dade8d90b11"
      },
      "source": [
        "# Visualize accuracy and loss for training and test data. \n",
        "# One plot training and test loss.\n",
        "# One plot training and test accuracy.\n",
        " \n",
        "# change the style of the plots to a nicer theme\n",
        "plt.style.use('ggplot')\n",
        "fig, ax = plt.subplots(nrows=1, ncols=2, figsize = (20, 8))\n",
        " \n",
        "# plot for average loss\n",
        "ax[0].plot(train_losses, label='training')\n",
        "ax[0].plot(test_losses, label='test')\n",
        "ax[0].set(ylabel='Loss', xlabel='Epochs', title='Average loss over 10 epochs')\n",
        "ax[0].legend()\n",
        " \n",
        "# plot for average accuracy, with annotation for the last accuracy value on our test data \n",
        "ax[1].plot(train_accuracies, label='training')\n",
        "ax[1].plot(test_accuracies, label='test')\n",
        "ax[1].set(ylabel='Accuracy', xlabel='Epochs', title='Average accuracy over 35 epochs')\n",
        "ax[1].legend()\n",
        "ax[1].annotate(f'final test accuracy {round(test_accuracies[34], 4)*100}%', xy=(34, test_accuracies[34]), xytext=(15, 0.8),\n",
        "            arrowprops=dict(facecolor='steelblue', shrink=0.05))"
      ],
      "execution_count": 40,
      "outputs": [
        {
          "output_type": "execute_result",
          "data": {
            "text/plain": [
              "Text(15, 0.8, 'final test accuracy 95.72%')"
            ]
          },
          "metadata": {
            "tags": []
          },
          "execution_count": 40
        },
        {
          "output_type": "display_data",
          "data": {
            "image/png": "[encoded data removed]",
            "text/plain": [
              "<Figure size 1440x576 with 2 Axes>"
            ]
          },
          "metadata": {
            "tags": []
          }
        }
      ]
    },
    {
      "cell_type": "markdown",
      "metadata": {
        "id": "TYXFZ8EJ6dJP"
      },
      "source": [
        "## Overview of all train and test accuracies"
      ]
    },
    {
      "cell_type": "code",
      "metadata": {
        "colab": {
          "base_uri": "https://localhost:8080/"
        },
        "id": "M0Fl3DWfNlUk",
        "outputId": "d06c85ce-6025-41c0-a611-a37733938115"
      },
      "source": [
        "train_accuracies"
      ],
      "execution_count": 53,
      "outputs": [
        {
          "output_type": "execute_result",
          "data": {
            "text/plain": [
              "[0.5007105009633912,\n",
              " 0.9498615125240848,\n",
              " 0.956590197495183,\n",
              " 0.9580352842003854,\n",
              " 0.9604287090558767,\n",
              " 0.9564667630057804,\n",
              " 0.9612987716763006,\n",
              " 0.9592094171483623,\n",
              " 0.9599078757225434,\n",
              " 0.9588481454720617,\n",
              " 0.9572344653179191,\n",
              " 0.9580804431599229,\n",
              " 0.951192196531792,\n",
              " 0.9608230973025048,\n",
              " 0.9542088150289018,\n",
              " 0.9598536849710982,\n",
              " 0.9609796483622352,\n",
              " 0.9639631502890174,\n",
              " 0.9647519267822736,\n",
              " 0.9643244219653179,\n",
              " 0.9582941955684008,\n",
              " 0.9613770472061657,\n",
              " 0.9641437861271677,\n",
              " 0.9640414258188825,\n",
              " 0.9550999518304432,\n",
              " 0.9645050578034682,\n",
              " 0.9582490366088632,\n",
              " 0.9623133429672447,\n",
              " 0.9633760838150289,\n",
              " 0.9598868015414258,\n",
              " 0.9645953757225434,\n",
              " 0.9662542148362235,\n",
              " 0.9484043834296725,\n",
              " 0.9673380298651253,\n",
              " 0.9673049132947977]"
            ]
          },
          "metadata": {
            "tags": []
          },
          "execution_count": 53
        }
      ]
    },
    {
      "cell_type": "code",
      "metadata": {
        "colab": {
          "base_uri": "https://localhost:8080/"
        },
        "id": "MnzSFpezOrcx",
        "outputId": "15af52fe-75b0-458c-c082-6d7838c94fe2"
      },
      "source": [
        "test_accuracies"
      ],
      "execution_count": 54,
      "outputs": [
        {
          "output_type": "execute_result",
          "data": {
            "text/plain": [
              "[0.4987571022727273,\n",
              " 0.9486860795454546,\n",
              " 0.9554332386363636,\n",
              " 0.9559659090909091,\n",
              " 0.9577414772727273,\n",
              " 0.9541903409090909,\n",
              " 0.958984375,\n",
              " 0.9554332386363636,\n",
              " 0.9586292613636364,\n",
              " 0.9540127840909091,\n",
              " 0.9547230113636364,\n",
              " 0.9518821022727273,\n",
              " 0.9495738636363636,\n",
              " 0.9579190340909091,\n",
              " 0.9493963068181818,\n",
              " 0.9559659090909091,\n",
              " 0.9549005681818182,\n",
              " 0.9598721590909091,\n",
              " 0.9598721590909091,\n",
              " 0.955078125,\n",
              " 0.9557883522727273,\n",
              " 0.9579190340909091,\n",
              " 0.9582741477272727,\n",
              " 0.9545454545454546,\n",
              " 0.9502840909090909,\n",
              " 0.9598721590909091,\n",
              " 0.9525923295454546,\n",
              " 0.9549005681818182,\n",
              " 0.95703125,\n",
              " 0.9572088068181818,\n",
              " 0.9586292613636364,\n",
              " 0.958984375,\n",
              " 0.9426491477272727,\n",
              " 0.958984375,\n",
              " 0.9596946022727273]"
            ]
          },
          "metadata": {
            "tags": []
          },
          "execution_count": 54
        }
      ]
    }
  ]
}
