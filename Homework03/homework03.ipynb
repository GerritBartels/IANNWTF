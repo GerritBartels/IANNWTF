{
  "nbformat": 4,
  "nbformat_minor": 0,
  "metadata": {
    "kernelspec": {
      "display_name": "Python 3",
      "language": "python",
      "name": "python3"
    },
    "language_info": {
      "codemirror_mode": {
        "name": "ipython",
        "version": 3
      },
      "file_extension": ".py",
      "mimetype": "text/x-python",
      "name": "python",
      "nbconvert_exporter": "python",
      "pygments_lexer": "ipython3",
      "version": "3.7.9"
    },
    "colab": {
      "name": "homework03.ipynb",
      "provenance": [],
      "collapsed_sections": []
    },
    "accelerator": "GPU"
  },
  "cells": [
    {
      "cell_type": "markdown",
      "metadata": {
        "id": "thYV5RQgnHqJ"
      },
      "source": [
        "# Import"
      ]
    },
    {
      "cell_type": "code",
      "metadata": {
        "id": "1lMNcLZJnHqN"
      },
      "source": [
        "import numpy as np\n",
        "import tensorflow as tf\n",
        "# next line only for Colab\n",
        "%tensorflow_version 2.x\n",
        "# import tensorflow-datasets to be able to access the tensorflow inbuilt datasets\n",
        "import tensorflow_datasets as tfds\n",
        "import matplotlib.pyplot as plt"
      ],
      "execution_count": 1,
      "outputs": []
    },
    {
      "cell_type": "markdown",
      "metadata": {
        "id": "ce0C2syHnHqT"
      },
      "source": [
        "# 1. Dataset"
      ]
    },
    {
      "cell_type": "code",
      "metadata": {
        "id": "2CsrnyB_nHqU"
      },
      "source": [
        "# Loading the inbuilt genomics_ood dataset \n",
        "# It contains genomic sequences that are 250 characters in length. \n",
        "# Each charater can be one of four different nucleotides (A, G, C, T)\n",
        "# Our goal is to classify each genome sequence to one out of ten bacteria populations\n",
        "\n",
        "# load the first 100000 tupels from the train data (sequence, label) \n",
        "# and the first 1000 tupels from the test data\n",
        "train_data, test_data = tfds.load(\"genomics_ood\", split=['train[:100000]', 'test[:1000]'], as_supervised=True)"
      ],
      "execution_count": 2,
      "outputs": []
    },
    {
      "cell_type": "code",
      "metadata": {
        "id": "G8mTq_LQnHqX"
      },
      "source": [
        "# One-encode the nucleotides from our genomic sequences \n",
        "def onehotify(input):\n",
        "    \"\"\"Replaces the string sequence of nucleotides with a onehot encoding \n",
        "    Each nucleotide is replaced by a 4 digit onehot representation\n",
        "\n",
        "    Arguments:\n",
        "      input (bytes): String byte containing the nucleotide sequence of a bacteria\n",
        "    \n",
        "    Returns:\n",
        "      onehot (EagerTensor): flattened onehot encoded nucleotide sequence \n",
        "    \"\"\"\n",
        "    # Dictionary to replace the nucleotides by numbers such that we can input the sequences in the one_hot function\n",
        "    vocab = {'A':'0', 'C':'1', 'G':'2', 'T':'3'} \n",
        "    \n",
        "    # replace each character with the respective number (still a string)\n",
        "    for key in vocab.keys():\n",
        "        input = tf.strings.regex_replace(input, key, vocab[key])\n",
        "\n",
        "    # split the sequence of already replaced nucleotides into separate bytes\n",
        "    # one byte per number\n",
        "    split = tf.strings.bytes_split(input)\n",
        "\n",
        "    # cast the string number into a uint8 number \n",
        "    labels = tf.cast(tf.strings.to_number(split), tf.uint8) \n",
        "\n",
        "    # onehot encode each number with 4 digits\n",
        "    onehot = tf.one_hot(labels, 4)\n",
        "\n",
        "    # flatten the output for the network \n",
        "    onehot = tf.reshape(onehot, (-1,)) \n",
        "\n",
        "    return onehot"
      ],
      "execution_count": 3,
      "outputs": []
    },
    {
      "cell_type": "code",
      "metadata": {
        "id": "wT9u0VLmH2xW"
      },
      "source": [
        "onehotify?"
      ],
      "execution_count": 4,
      "outputs": []
    },
    {
      "cell_type": "markdown",
      "metadata": {
        "id": "GoMbS6jqADP2"
      },
      "source": [
        "# Added Comment\n",
        "## Alternative Data Pipeline\n",
        "\n",
        "```\n",
        "train_dataset = train_data.map(lambda seq, lbl : (onehotify(seq), tf.one_hot(lbl, 10)))\n",
        "train_dataset = train_dataset.shuffle(buffer_size=1000, reshuffle_each_iteration=True).batch(100).prefetch(10)\n",
        "\n",
        "test_dataset = test_data.map(lambda seq, lbl : (onehotify(seq), tf.one_hot(lbl, 10)))\n",
        "test_dataset = test_dataset.shuffle(buffer_size=1000, reshuffle_each_iteration=True).batch(100).prefetch(10)\n",
        "```"
      ]
    },
    {
      "cell_type": "markdown",
      "metadata": {
        "id": "GNCTZ0aFFsIW"
      },
      "source": [
        "## Input Pipeline\n"
      ]
    },
    {
      "cell_type": "code",
      "metadata": {
        "id": "fE88pT8RnHqZ"
      },
      "source": [
        "# Added Comment\n",
        "## We specifically chose the pipeline below where we load the data into the RAM, as it significantly decreased training time \n",
        "\n",
        "# for each data tupel we extract the sequence / label and save them in a dedicated list, while simultaneously onehotifying the sequences \n",
        "seq_train = [onehotify(seq) for seq,_ in train_data]\n",
        "label_train = [label for _,label in train_data]\n",
        "seq_test = [onehotify(seq) for seq,_ in test_data]\n",
        "label_test = [label for _,label in test_data]"
      ],
      "execution_count": 5,
      "outputs": []
    },
    {
      "cell_type": "code",
      "metadata": {
        "id": "NOkVn08EnHqg"
      },
      "source": [
        "# create a tensorflow Dataset from the training nucleotid sequences and their labels respectively\n",
        "train_dataset_seq = tf.data.Dataset.from_tensor_slices(seq_train)\n",
        "train_dataset_labels = tf.data.Dataset.from_tensor_slices(label_train)\n",
        "# onehot encode the target label using 10 digits representing the 10 different bacteria \n",
        "train_dataset_labels = train_dataset_labels.map(lambda t : tf.one_hot(t, 10))\n",
        "\n",
        "# zip together the freshly created Datasets ((input, label) pairs)\n",
        "train_dataset = tf.data.Dataset.zip((train_dataset_seq, train_dataset_labels))\n",
        "\n",
        "# shuffle the batches \n",
        "train_dataset = train_dataset.shuffle(buffer_size=1000)\n",
        "\n",
        "# create batches of 100 samples \n",
        "train_dataset = train_dataset.batch(100)\n",
        "\n",
        "# When the GPU is working on forward / backward propagation on the current batch, we want the CPU to process the next batch of data so that it is immediately ready. \n",
        "# This way we ensure that the GPU is fully used all the time during training.\n",
        "train_dataset = train_dataset.prefetch(10)\n",
        "\n",
        "\n",
        "# repeat for test data set \n",
        "test_dataset_seq = tf.data.Dataset.from_tensor_slices(seq_test)\n",
        "test_dataset_labels = tf.data.Dataset.from_tensor_slices(label_test)\n",
        "test_dataset_labels = test_dataset_labels.map(lambda t : tf.one_hot(t, 10))\n",
        "\n",
        "test_dataset = tf.data.Dataset.zip((test_dataset_seq, test_dataset_labels))\n",
        "\n",
        "test_dataset = test_dataset.shuffle(buffer_size=1000)\n",
        "test_dataset = test_dataset.batch(100)\n",
        "test_dataset = test_dataset.prefetch(10)"
      ],
      "execution_count": 6,
      "outputs": []
    },
    {
      "cell_type": "markdown",
      "metadata": {
        "id": "vNEVel5nK7p3"
      },
      "source": [
        "# 2. Model"
      ]
    },
    {
      "cell_type": "code",
      "metadata": {
        "id": "ONq3bSxDnHqi"
      },
      "source": [
        "# We will implement a simple fully connected feed forward neural network like the last time.\n",
        "#\n",
        "# Our network will have the following layers:\n",
        "# Input : 1000 units.\n",
        "# Hidden layer 1: 256 units. With sigmoid activation function.\n",
        "# Hidden layer 2: 256 units. With sigmoid activation function.\n",
        "# Output: 10 units. With softmax activation function.\n",
        "\n",
        "from tensorflow.keras import Model\n",
        "from tensorflow.keras.layers import Layer\n",
        "\n",
        "class Model(Model): \n",
        "    \"\"\"Class for creating a MLP which inherits from the Model class from keras \n",
        "    \"\"\"\n",
        "\n",
        "    def __init__(self):\n",
        "      \"\"\"Initialize a MLP with a variable amount of keras.Layers\n",
        "      \"\"\"\n",
        "      # use the keyword super to allow our MLP to access the init() form the keras Model class\n",
        "      super(Model, self).__init__()\n",
        "\n",
        "      # Define the layers structure.\n",
        "      self.hidden_layer_1 = tf.keras.layers.Dense(units=256, activation=tf.keras.activations.sigmoid)\n",
        "      self.hidden_layer_2 = tf.keras.layers.Dense(units=256, activation=tf.keras.activations.sigmoid)\n",
        "      self.output_layer = tf.keras.layers.Dense(units=10, activation=tf.keras.activations.softmax)\n",
        "        \n",
        "    # use the decorator @tf.function to speed up the model call    \n",
        "    @tf.function    \n",
        "    def call(self, x):\n",
        "      \"\"\"Activate our MLP propagating the input through the network layer by layer\n",
        "\n",
        "      Arguments:\n",
        "        x (Tensor): Tensor containing the input to our MLP\n",
        "\n",
        "      Returns:\n",
        "        x (Tensor): Tensor containing the probabilities for the ten classes\n",
        "      \"\"\"\n",
        "      x = self.hidden_layer_1(x)\n",
        "      x = self.hidden_layer_2(x)\n",
        "      x = self.output_layer(x)\n",
        "      return x"
      ],
      "execution_count": 7,
      "outputs": []
    },
    {
      "cell_type": "markdown",
      "metadata": {
        "id": "mLBz46icPZ2H"
      },
      "source": [
        "# 3. Training"
      ]
    },
    {
      "cell_type": "code",
      "metadata": {
        "id": "nnU7DD3inHql"
      },
      "source": [
        "def train_step(model, input, target, loss_function, optimizer):\n",
        "  \"\"\"Perform a training step for a given Neural Network by\n",
        "  1. Propagating the input through the network\n",
        "  2. Calculating the loss between the networks output and the true targets \n",
        "  2. Performing Backpropagation and Updating the trainable variables witht the calculated gradients \n",
        "\n",
        "  Arguments:\n",
        "    model (Model): given instance of an initialised Neural Network with all its parameters\n",
        "    input (EagerTensor): Tensor containing the input data \n",
        "    target (EagerTensor): Tensor containing the respective targets \n",
        "    loss_function (keras.losses): function from keras to calculate the loss\n",
        "    optimizer (keras.optimizers): function from keras defining the to be applied optimizer during learning \n",
        "\n",
        "  Returns:\n",
        "    loss (EagerTensor): Tensor containing the loss of the Network \n",
        "  \"\"\"\n",
        "  # loss_object and optimizer_object are instances of respective tensorflow classes\n",
        "  with tf.GradientTape() as tape:\n",
        "    # 1.\n",
        "    prediction = model(input)\n",
        "    # 2.\n",
        "    loss = loss_function(target, prediction)\n",
        "    # 3.\n",
        "    gradients = tape.gradient(loss, model.trainable_variables)\n",
        "  optimizer.apply_gradients(zip(gradients, model.trainable_variables))\n",
        "\n",
        "  return loss \n",
        "\n",
        "def test(model, test_data, loss_function):\n",
        "  \"\"\"Tests the models accuracy and loss over the given data set with a given loss_function\n",
        "\n",
        "  Arguments:\n",
        "    model (Model): given instance of an initialised Neural Network with all its parameters\n",
        "    test_data (Dataset): test dataset to test the NN on \n",
        "    loss_function (keras.losses): function from keras to calculate the loss \n",
        "\n",
        "  Returns:\n",
        "    test_loss (float): Average loss of the Neural Network over the test set\n",
        "    test_accuracy (float): Average accuray of the Neural Network over the test set\n",
        "  \"\"\"\n",
        "  # test over complete test data\n",
        "  test_accuracy_aggregator = []\n",
        "  test_loss_aggregator = []\n",
        "  \n",
        "  for (input, target) in test_data:\n",
        "    prediction = model(input)\n",
        "    \n",
        "    # calculates the loss value (as a tensors) for a entire batch \n",
        "    sample_test_loss = loss_function(target, prediction)\n",
        "\n",
        "    # creates a boolean array of dimension (100,) for each batch \n",
        "    # each entry represents whether one (sequence, label) pair was predicted correctly \n",
        "    sample_test_accuracy =  np.argmax(target, axis=1) == np.argmax(prediction, axis=1)\n",
        "\n",
        "    # take the mean over each boolean array to obtain the average accuracy for one batch \n",
        "    sample_test_accuracy = np.mean(sample_test_accuracy)\n",
        "    test_loss_aggregator.append(sample_test_loss.numpy())\n",
        "\n",
        "    # append the mean of all batch accuracies  \n",
        "    test_accuracy_aggregator.append(np.mean(sample_test_accuracy))\n",
        "\n",
        "  test_loss = np.mean(test_loss_aggregator)\n",
        "  test_accuracy = np.mean(test_accuracy_aggregator)\n",
        "\n",
        "  return test_loss, test_accuracy\n"
      ],
      "execution_count": 8,
      "outputs": []
    },
    {
      "cell_type": "code",
      "metadata": {
        "id": "X0-bqfW1tX-E",
        "colab": {
          "base_uri": "https://localhost:8080/"
        },
        "outputId": "a8828769-1a1a-4a85-8db9-72c174011441"
      },
      "source": [
        "tf.keras.backend.clear_session()\n",
        "\n",
        "### Hyperparameters\n",
        "num_epochs = 10\n",
        "learning_rate = 0.1\n",
        "running_average_factor = 0.95\n",
        "\n",
        "# Initialize the model.\n",
        "model = Model()\n",
        "# Initialize the loss: categorical cross entropy.\n",
        "cross_entropy_loss = tf.keras.losses.CategoricalCrossentropy()\n",
        "# Initialize the optimizer: Adam with default parameters.\n",
        "optimizer = tf.keras.optimizers.SGD(learning_rate)\n",
        "\n",
        "# Initialize lists for later visualization.\n",
        "train_losses = []\n",
        "test_losses = []\n",
        "test_accuracies = []\n",
        "train_accuracies = []\n",
        "\n",
        "# testing once before we begin on the test data\n",
        "test_loss, test_accuracy = test(model, test_dataset, cross_entropy_loss)\n",
        "test_losses.append(test_loss)\n",
        "test_accuracies.append(test_accuracy)\n",
        "\n",
        "# check how model performs on train data once before we begin\n",
        "train_loss, train_accuracy = test(model, train_dataset, cross_entropy_loss)\n",
        "train_losses.append(train_loss)\n",
        "train_accuracies.append(train_accuracy)\n",
        "\n",
        "# We train for num_epochs epochs.\n",
        "for epoch in range(num_epochs):\n",
        "    print('Epoch: __ ' + str(epoch))\n",
        "\n",
        "    train_dataset = train_dataset.shuffle(buffer_size=100)\n",
        "    test_dataset = test_dataset.shuffle(buffer_size=100)\n",
        "\n",
        "    # training (and checking in with training)\n",
        "    running_average = 0\n",
        "    for (input,target) in train_dataset:\n",
        "        train_loss = train_step(model, input, target, cross_entropy_loss, optimizer)\n",
        "        running_average = running_average_factor * running_average  + (1 - running_average_factor) * train_loss\n",
        "    train_losses.append(running_average)\n",
        "\n",
        "    # testing\n",
        "    test_loss, test_accuracy = test(model, test_dataset, cross_entropy_loss)\n",
        "    test_losses.append(test_loss)\n",
        "    test_accuracies.append(test_accuracy)\n",
        "\n",
        "    _, train_accuracy = test(model, train_dataset, cross_entropy_loss)\n",
        "    train_accuracies.append(train_accuracy)"
      ],
      "execution_count": 9,
      "outputs": [
        {
          "output_type": "stream",
          "text": [
            "Epoch: __ 0\n",
            "Epoch: __ 1\n",
            "Epoch: __ 2\n",
            "Epoch: __ 3\n",
            "Epoch: __ 4\n",
            "Epoch: __ 5\n",
            "Epoch: __ 6\n",
            "Epoch: __ 7\n",
            "Epoch: __ 8\n",
            "Epoch: __ 9\n"
          ],
          "name": "stdout"
        }
      ]
    },
    {
      "cell_type": "code",
      "metadata": {
        "id": "VasCF9FOuJK5",
        "colab": {
          "base_uri": "https://localhost:8080/",
          "height": 371
        },
        "outputId": "e8a4a28c-598a-4ce5-d0cc-26485f595097"
      },
      "source": [
        "# Visualize accuracy and loss for training and test data. \n",
        "# One plot training and test loss.\n",
        "# One plot training and test accuracy.\n",
        "\n",
        "# change the style of the plots to a nicer theme\n",
        "plt.style.use('ggplot')\n",
        "fig, ax = plt.subplots(nrows=1, ncols=2)\n",
        "fig.set_figheight(5)\n",
        "fig.set_figwidth(17)\n",
        "\n",
        "# plot for average loss\n",
        "ax[0].plot(train_losses, label='training')\n",
        "ax[0].plot(test_losses, label='test')\n",
        "ax[0].set(ylabel='Loss', xlabel='Epochs', title='Average loss over 10 epochs')\n",
        "ax[0].legend()\n",
        "\n",
        "# plot for average accuracy \n",
        "ax[1].plot(train_accuracies, label='training')\n",
        "ax[1].plot(test_accuracies, label='test')\n",
        "ax[1].set(ylabel='Accuracy', xlabel='Epochs', title='Average accuracy over 10 epochs')\n",
        "ax[1].legend()"
      ],
      "execution_count": 10,
      "outputs": [
        {
          "output_type": "execute_result",
          "data": {
            "text/plain": [
              "<matplotlib.legend.Legend at 0x7f4259b37cf8>"
            ]
          },
          "metadata": {
            "tags": []
          },
          "execution_count": 10
        },
        {
          "output_type": "display_data",
          "data": {
            "image/png": "[encoded data removed]",
            "text/plain": [
              "<Figure size 1224x360 with 2 Axes>"
            ]
          },
          "metadata": {
            "tags": []
          }
        }
      ]
    }
  ]
}